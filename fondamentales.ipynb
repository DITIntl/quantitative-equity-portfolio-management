{
 "cells": [
  {
   "cell_type": "code",
   "execution_count": 1,
   "metadata": {
    "collapsed": true
   },
   "outputs": [],
   "source": [
    "import numpy as np\n",
    "import pandas as pd\n",
    "import matplotlib.pyplot as plt\n",
    "import seaborn as sns\n",
    "from sklearn import preprocessing, metrics\n",
    "from sklearn import model_selection\n",
    "from sklearn import linear_model\n",
    "from sklearn import ensemble\n",
    "from sklearn import svm\n",
    "from collections import Counter\n",
    "import copy\n",
    "%matplotlib inline"
   ]
  },
  {
   "cell_type": "markdown",
   "metadata": {},
   "source": [
    "### Fondamental data"
   ]
  },
  {
   "cell_type": "code",
   "execution_count": 2,
   "metadata": {
    "collapsed": true
   },
   "outputs": [],
   "source": [
    "data = pd.read_csv(\"data_sp500.csv\", sep=\"|\")"
   ]
  },
  {
   "cell_type": "code",
   "execution_count": 3,
   "metadata": {
    "collapsed": true,
    "scrolled": true
   },
   "outputs": [],
   "source": [
    "data = data.drop('Unnamed: 0', axis = 1)"
   ]
  },
  {
   "cell_type": "code",
   "execution_count": 4,
   "metadata": {
    "collapsed": true
   },
   "outputs": [],
   "source": [
    "features = list(data.columns)"
   ]
  },
  {
   "cell_type": "code",
   "execution_count": 5,
   "metadata": {
    "collapsed": true
   },
   "outputs": [],
   "source": [
    "companies = data[\"Nom de l'entreprise\"].values.tolist()"
   ]
  },
  {
   "cell_type": "markdown",
   "metadata": {},
   "source": [
    "### Historical prices"
   ]
  },
  {
   "cell_type": "code",
   "execution_count": 6,
   "metadata": {},
   "outputs": [
    {
     "data": {
      "text/html": [
       "<div>\n",
       "<style scoped>\n",
       "    .dataframe tbody tr th:only-of-type {\n",
       "        vertical-align: middle;\n",
       "    }\n",
       "\n",
       "    .dataframe tbody tr th {\n",
       "        vertical-align: top;\n",
       "    }\n",
       "\n",
       "    .dataframe thead th {\n",
       "        text-align: right;\n",
       "    }\n",
       "</style>\n",
       "<table border=\"1\" class=\"dataframe\">\n",
       "  <thead>\n",
       "    <tr style=\"text-align: right;\">\n",
       "      <th></th>\n",
       "      <th>nom_entreprise</th>\n",
       "      <th>open_jan_2018</th>\n",
       "      <th>close_jan_2018</th>\n",
       "      <th>open_fev_2018</th>\n",
       "      <th>close_fev_2018</th>\n",
       "      <th>open_mar_2018</th>\n",
       "      <th>close_mar_2018</th>\n",
       "      <th>open_avr_2018</th>\n",
       "      <th>close_avr_2018</th>\n",
       "    </tr>\n",
       "  </thead>\n",
       "  <tbody>\n",
       "    <tr>\n",
       "      <th>0</th>\n",
       "      <td>MMM</td>\n",
       "      <td>235.78</td>\n",
       "      <td>250.50</td>\n",
       "      <td>247.440</td>\n",
       "      <td>235.51</td>\n",
       "      <td>236.15</td>\n",
       "      <td>219.52</td>\n",
       "      <td>218.05</td>\n",
       "      <td>194.39</td>\n",
       "    </tr>\n",
       "    <tr>\n",
       "      <th>1</th>\n",
       "      <td>AOS</td>\n",
       "      <td>61.45</td>\n",
       "      <td>66.78</td>\n",
       "      <td>66.990</td>\n",
       "      <td>64.19</td>\n",
       "      <td>64.19</td>\n",
       "      <td>63.59</td>\n",
       "      <td>63.45</td>\n",
       "      <td>61.35</td>\n",
       "    </tr>\n",
       "    <tr>\n",
       "      <th>2</th>\n",
       "      <td>ABT</td>\n",
       "      <td>58.20</td>\n",
       "      <td>62.16</td>\n",
       "      <td>61.750</td>\n",
       "      <td>60.33</td>\n",
       "      <td>60.16</td>\n",
       "      <td>59.92</td>\n",
       "      <td>59.82</td>\n",
       "      <td>58.13</td>\n",
       "    </tr>\n",
       "    <tr>\n",
       "      <th>3</th>\n",
       "      <td>ABBV</td>\n",
       "      <td>97.14</td>\n",
       "      <td>112.22</td>\n",
       "      <td>112.240</td>\n",
       "      <td>115.83</td>\n",
       "      <td>115.91</td>\n",
       "      <td>94.65</td>\n",
       "      <td>94.00</td>\n",
       "      <td>96.55</td>\n",
       "    </tr>\n",
       "    <tr>\n",
       "      <th>4</th>\n",
       "      <td>ACN</td>\n",
       "      <td>153.50</td>\n",
       "      <td>160.70</td>\n",
       "      <td>160.155</td>\n",
       "      <td>161.01</td>\n",
       "      <td>161.28</td>\n",
       "      <td>153.50</td>\n",
       "      <td>151.82</td>\n",
       "      <td>151.20</td>\n",
       "    </tr>\n",
       "  </tbody>\n",
       "</table>\n",
       "</div>"
      ],
      "text/plain": [
       "  nom_entreprise  open_jan_2018  close_jan_2018  open_fev_2018  \\\n",
       "0            MMM         235.78          250.50        247.440   \n",
       "1            AOS          61.45           66.78         66.990   \n",
       "2            ABT          58.20           62.16         61.750   \n",
       "3           ABBV          97.14          112.22        112.240   \n",
       "4            ACN         153.50          160.70        160.155   \n",
       "\n",
       "   close_fev_2018  open_mar_2018  close_mar_2018  open_avr_2018  \\\n",
       "0          235.51         236.15          219.52         218.05   \n",
       "1           64.19          64.19           63.59          63.45   \n",
       "2           60.33          60.16           59.92          59.82   \n",
       "3          115.83         115.91           94.65          94.00   \n",
       "4          161.01         161.28          153.50         151.82   \n",
       "\n",
       "   close_avr_2018  \n",
       "0          194.39  \n",
       "1           61.35  \n",
       "2           58.13  \n",
       "3           96.55  \n",
       "4          151.20  "
      ]
     },
     "execution_count": 6,
     "metadata": {},
     "output_type": "execute_result"
    }
   ],
   "source": [
    "prices = pd.read_excel('historical_2018.xlsx')\n",
    "prices.head()"
   ]
  },
  {
   "cell_type": "markdown",
   "metadata": {},
   "source": [
    "## Deleting the empty data cells"
   ]
  },
  {
   "cell_type": "code",
   "execution_count": 7,
   "metadata": {
    "collapsed": true
   },
   "outputs": [],
   "source": [
    "def delete_nan(data_all, feature_names, company_names):\n",
    "    matrix = data_all.drop(\"Nom de l'entreprise\", axis=1).values\n",
    "    n_modification = 1\n",
    "    \n",
    "    while n_modification > 0:\n",
    "        n_modification = 0\n",
    "        n,m = matrix.shape\n",
    "        line_coef = 0\n",
    "        line = 0\n",
    "        col_coef = 0\n",
    "        col = 0\n",
    "\n",
    "        #Recherche du plus grand coefficient de données manquantes\n",
    "        for i in range(n):\n",
    "            new_coef = np.count_nonzero(np.isnan(matrix[i]))/len(matrix[i])\n",
    "            if new_coef > line_coef:\n",
    "                line_coef = new_coef\n",
    "                line = i\n",
    "                n_modification += 1\n",
    "        for j in range(m):\n",
    "            new_coef = np.count_nonzero(np.isnan(matrix[:,j]))/len(matrix[:,j])\n",
    "            if new_coef > col_coef:\n",
    "                col_coef = new_coef\n",
    "                col = j\n",
    "                n_modification += 1\n",
    "\n",
    "        matrix = matrix.tolist()\n",
    "        if (n_modification > 0) and (line_coef < col_coef):\n",
    "            del feature_names[col]\n",
    "            for row in matrix:\n",
    "                del row[col]\n",
    "        elif (n_modification > 0) and (col_coef <= line_coef):\n",
    "            del company_names[line]\n",
    "            del matrix[line]\n",
    "        \n",
    "        matrix = np.array(matrix)\n",
    "            \n",
    "    #Re-adding the company names\n",
    "    matrix = matrix.tolist()\n",
    "    for i in range(len(matrix)):\n",
    "        matrix[i] = [company_names[i]] + matrix[i]\n",
    "    \n",
    "    new_data = pd.DataFrame(matrix)\n",
    "    new_data.columns = feature_names\n",
    "    \n",
    "    return new_data, feature_names, company_names    "
   ]
  },
  {
   "cell_type": "code",
   "execution_count": 8,
   "metadata": {
    "collapsed": true
   },
   "outputs": [],
   "source": [
    "data, features, companies = delete_nan(data, features, companies)"
   ]
  },
  {
   "cell_type": "code",
   "execution_count": 120,
   "metadata": {},
   "outputs": [
    {
     "data": {
      "text/plain": [
       "[\"Nom de l'entreprise\",\n",
       " 'P/E Ratio (TTM) (Company)',\n",
       " 'P/E High - Last 5 Yrs. (Company)',\n",
       " 'P/E Low - Last 5 Yrs. (Company)',\n",
       " 'Beta (Company)',\n",
       " 'Price to Sales (TTM) (Company)',\n",
       " 'Price to Tangible Book (MRQ) (Company)',\n",
       " 'Dividend 5 Year Growth Rate (Company)',\n",
       " 'Payout Ratio(TTM) (Company)',\n",
       " 'Sales (MRQ) vs Qtr. 1 Yr. Ago (Company)',\n",
       " 'Sales (TTM) vs TTM 1 Yr. Ago (Company)',\n",
       " 'Sales - 5 Yr. Growth Rate (Company)',\n",
       " 'EPS (MRQ) vs Qtr. 1 Yr. Ago (Company)',\n",
       " 'EPS - 5 Yr. Growth Rate (Company)',\n",
       " 'Current Ratio (MRQ) (Company)',\n",
       " 'LT Debt to Equity (MRQ) (Company)',\n",
       " 'Gross Margin - 5 Yr. Avg. (Company)',\n",
       " 'EBITD Margin (TTM) (Company)',\n",
       " 'EBITD - 5 Yr. Avg (Company)',\n",
       " 'Operating Margin (TTM) (Company)',\n",
       " 'Operating Margin - 5 Yr. Avg. (Company)',\n",
       " 'Pre-Tax Margin (TTM) (Company)',\n",
       " 'Pre-Tax Margin - 5 Yr. Avg. (Company)',\n",
       " 'Net Profit Margin (TTM) (Company)',\n",
       " 'Net Profit Margin - 5 Yr. Avg. (Company)',\n",
       " 'Effective Tax Rate - 5 Yr. Avg. (Company)',\n",
       " 'Revenue/Employee (TTM) (Company)',\n",
       " 'Inventory Turnover (TTM) (Company)',\n",
       " 'Asset Turnover (TTM) (Company)',\n",
       " 'Return on Assets (TTM) (Company)',\n",
       " 'Return on Assets - 5 Yr. Avg. (Company)',\n",
       " 'Return on Investment (TTM) (Company)',\n",
       " 'Return on Investment - 5 Yr. Avg. (Company)',\n",
       " 'Return on Equity (TTM) (Company)',\n",
       " 'Return on Equity - 5 Yr. Avg. (Company)']"
      ]
     },
     "execution_count": 120,
     "metadata": {},
     "output_type": "execute_result"
    }
   ],
   "source": [
    "features"
   ]
  },
  {
   "cell_type": "code",
   "execution_count": 70,
   "metadata": {},
   "outputs": [
    {
     "data": {
      "image/png": "[encoded data removed]",
      "text/plain": [
       "<matplotlib.figure.Figure at 0x27b3b9a5630>"
      ]
     },
     "metadata": {},
     "output_type": "display_data"
    }
   ],
   "source": [
    "fig = plt.figure(figsize=(12,12))\n",
    "ax = fig.add_subplot(111)\n",
    "cax = ax.matshow((data.drop(\"Nom de l'entreprise\", axis=1)).corr())\n",
    "fig.colorbar(cax)\n",
    "plt.savefig('correlation.png', dpi=300)\n",
    "plt.show()"
   ]
  },
  {
   "cell_type": "code",
   "execution_count": 10,
   "metadata": {},
   "outputs": [
    {
     "data": {
      "text/plain": [
       "array([[ 1.        ,  0.99936147],\n",
       "       [ 0.99936147,  1.        ]])"
      ]
     },
     "execution_count": 10,
     "metadata": {},
     "output_type": "execute_result"
    }
   ],
   "source": [
    "np.corrcoef(data[features[16]],data[features[15]])"
   ]
  },
  {
   "cell_type": "code",
   "execution_count": 68,
   "metadata": {},
   "outputs": [
    {
     "data": {
      "text/plain": [
       "('Gross Margin - 5 Yr. Avg. (Company)', 'LT Debt to Equity (MRQ) (Company)')"
      ]
     },
     "execution_count": 68,
     "metadata": {},
     "output_type": "execute_result"
    }
   ],
   "source": [
    "features[16], features[15]"
   ]
  },
  {
   "cell_type": "code",
   "execution_count": null,
   "metadata": {},
   "outputs": [],
   "source": []
  },
  {
   "cell_type": "markdown",
   "metadata": {},
   "source": [
    "#### Equivalent on the prices"
   ]
  },
  {
   "cell_type": "code",
   "execution_count": 12,
   "metadata": {
    "collapsed": true,
    "scrolled": true
   },
   "outputs": [],
   "source": [
    "prices_features = prices.columns\n",
    "prices_lists = prices.values.tolist()"
   ]
  },
  {
   "cell_type": "code",
   "execution_count": 13,
   "metadata": {
    "collapsed": true
   },
   "outputs": [],
   "source": [
    "i = 0\n",
    "\n",
    "for compteur in range(len(prices_lists)):\n",
    "    if prices_lists[i][0] not in companies:\n",
    "        del prices_lists[i]\n",
    "        i = i-1\n",
    "    i += 1    \n",
    "    \n",
    "\n",
    "prices = pd.DataFrame(prices_lists)\n",
    "prices.columns = prices_features"
   ]
  },
  {
   "cell_type": "markdown",
   "metadata": {
    "collapsed": true
   },
   "source": [
    "## Labelling the companies\n",
    "Good = 1\n",
    "Bad = 0"
   ]
  },
  {
   "cell_type": "markdown",
   "metadata": {},
   "source": [
    "The frequency here is over a year so we can have all the specific information on the companies up to date\n",
    "\n",
    "\"Good\" companies are those who have an increase of at least 10% since the opening one the period time.\n",
    "\n",
    "\"Bad\" ones are the others"
   ]
  },
  {
   "cell_type": "code",
   "execution_count": 14,
   "metadata": {},
   "outputs": [
    {
     "name": "stdout",
     "output_type": "stream",
     "text": [
      "[[ 235.78  250.5   247.44 ...,  219.52  218.05  194.39]\n",
      " [  61.45   66.78   66.99 ...,   63.59   63.45   61.35]\n",
      " [  58.2    62.16   61.75 ...,   59.92   59.82   58.13]\n",
      " ..., \n",
      " [  68.21   72.26   72.5  ...,   76.92   76.92   72.9 ]\n",
      " [ 121.    127.12  126.35 ...,  109.04  108.89  115.17]\n",
      " [  72.54   76.73   76.84 ...,   83.51   83.17   83.48]]\n"
     ]
    }
   ],
   "source": [
    "prices_values = prices.drop('nom_entreprise', axis=1).values\n",
    "print (prices_values)"
   ]
  },
  {
   "cell_type": "markdown",
   "metadata": {},
   "source": [
    "### January"
   ]
  },
  {
   "cell_type": "code",
   "execution_count": 15,
   "metadata": {
    "collapsed": true
   },
   "outputs": [],
   "source": [
    "#Labels for January 2018\n",
    "labels_jan = []\n",
    "for i in range(len(data)):\n",
    "    evol = (prices_values[i][1] - prices_values[i][0])/prices_values[i][0]\n",
    "    if evol > 0.05:    #Evolution of at least 5%\n",
    "        labels_jan.append(1)\n",
    "    else:\n",
    "        labels_jan.append(0)"
   ]
  },
  {
   "cell_type": "code",
   "execution_count": 16,
   "metadata": {},
   "outputs": [
    {
     "data": {
      "text/plain": [
       "153"
      ]
     },
     "execution_count": 16,
     "metadata": {},
     "output_type": "execute_result"
    }
   ],
   "source": [
    "labels_jan.count(1)"
   ]
  },
  {
   "cell_type": "markdown",
   "metadata": {},
   "source": [
    "### February"
   ]
  },
  {
   "cell_type": "code",
   "execution_count": 17,
   "metadata": {
    "collapsed": true
   },
   "outputs": [],
   "source": [
    "#Labels for February 2018\n",
    "labels_feb = []\n",
    "for i in range(len(data)):\n",
    "    evol = (prices_values[i][3] - prices_values[i][0])/prices_values[i][0]\n",
    "    if evol > 0.05:    #Evolution of at least 5%\n",
    "        labels_feb.append(1)\n",
    "    else:\n",
    "        labels_feb.append(0)"
   ]
  },
  {
   "cell_type": "code",
   "execution_count": 18,
   "metadata": {},
   "outputs": [
    {
     "data": {
      "text/plain": [
       "89"
      ]
     },
     "execution_count": 18,
     "metadata": {},
     "output_type": "execute_result"
    }
   ],
   "source": [
    "labels_feb.count(1)"
   ]
  },
  {
   "cell_type": "markdown",
   "metadata": {},
   "source": [
    "### March"
   ]
  },
  {
   "cell_type": "code",
   "execution_count": 19,
   "metadata": {
    "collapsed": true
   },
   "outputs": [],
   "source": [
    "#Labels for March 2018\n",
    "labels_mar = []\n",
    "for i in range(len(data)):\n",
    "    evol = (prices_values[i][5] - prices_values[i][0])/prices_values[i][0]\n",
    "    if evol > 0.05:    #Evolution of at least 5%\n",
    "        labels_mar.append(1)\n",
    "    else:\n",
    "        labels_mar.append(0)"
   ]
  },
  {
   "cell_type": "code",
   "execution_count": 20,
   "metadata": {},
   "outputs": [
    {
     "data": {
      "text/plain": [
       "80"
      ]
     },
     "execution_count": 20,
     "metadata": {},
     "output_type": "execute_result"
    }
   ],
   "source": [
    "labels_mar.count(1)"
   ]
  },
  {
   "cell_type": "markdown",
   "metadata": {},
   "source": [
    "### April"
   ]
  },
  {
   "cell_type": "code",
   "execution_count": 21,
   "metadata": {
    "collapsed": true
   },
   "outputs": [],
   "source": [
    "#Labels for April 2018\n",
    "labels_apr = []\n",
    "for i in range(len(data)):\n",
    "    evol = (prices_values[i][7] - prices_values[i][0])/prices_values[i][0]\n",
    "    if evol > 0.05:    #Evolution of at least 5%\n",
    "        labels_apr.append(1)\n",
    "    else:\n",
    "        labels_apr.append(0)"
   ]
  },
  {
   "cell_type": "code",
   "execution_count": 22,
   "metadata": {},
   "outputs": [
    {
     "data": {
      "text/plain": [
       "94"
      ]
     },
     "execution_count": 22,
     "metadata": {},
     "output_type": "execute_result"
    }
   ],
   "source": [
    "labels_apr.count(1)"
   ]
  },
  {
   "cell_type": "markdown",
   "metadata": {},
   "source": [
    "### Data Preprocessing"
   ]
  },
  {
   "cell_type": "code",
   "execution_count": 93,
   "metadata": {
    "collapsed": true
   },
   "outputs": [],
   "source": [
    "X_tr, X_te, y_tr, y_te = model_selection.train_test_split(data, labels_jan, test_size = 0.2, shuffle=True)"
   ]
  },
  {
   "cell_type": "code",
   "execution_count": 94,
   "metadata": {
    "collapsed": true
   },
   "outputs": [],
   "source": [
    "X_tr = X_tr.drop(\"Nom de l'entreprise\", axis=1).values\n",
    "X_te = X_te.drop(\"Nom de l'entreprise\", axis=1).values"
   ]
  },
  {
   "cell_type": "code",
   "execution_count": 95,
   "metadata": {
    "collapsed": true
   },
   "outputs": [],
   "source": [
    "from sklearn.preprocessing import StandardScaler"
   ]
  },
  {
   "cell_type": "code",
   "execution_count": 96,
   "metadata": {
    "collapsed": true
   },
   "outputs": [],
   "source": [
    "scaler = StandardScaler()"
   ]
  },
  {
   "cell_type": "code",
   "execution_count": 97,
   "metadata": {
    "collapsed": true
   },
   "outputs": [],
   "source": [
    "X_tr = scaler.fit_transform(X_tr)\n",
    "X_te = scaler.transform(X_te)"
   ]
  },
  {
   "cell_type": "code",
   "execution_count": 98,
   "metadata": {
    "collapsed": true
   },
   "outputs": [],
   "source": [
    "y_tr = np.array(y_tr)\n",
    "y_te = np.array(y_te)"
   ]
  },
  {
   "cell_type": "markdown",
   "metadata": {},
   "source": [
    "# Plot"
   ]
  },
  {
   "cell_type": "code",
   "execution_count": 99,
   "metadata": {},
   "outputs": [
    {
     "data": {
      "text/plain": [
       "<seaborn.axisgrid.PairGrid at 0x27b3bc20400>"
      ]
     },
     "execution_count": 99,
     "metadata": {},
     "output_type": "execute_result"
    },
    {
     "data": {
      "image/png": "[encoded data removed]",
      "text/plain": [
       "<matplotlib.figure.Figure at 0x27b3ba191d0>"
      ]
     },
     "metadata": {},
     "output_type": "display_data"
    }
   ],
   "source": [
    "sns.pairplot(data[['Price to Tangible Book (MRQ) (Company)','Inventory Turnover (TTM) (Company)','Asset Turnover (TTM) (Company)','Return on Assets (TTM) (Company)','Return on Assets - 5 Yr. Avg. (Company)']])"
   ]
  },
  {
   "cell_type": "code",
   "execution_count": null,
   "metadata": {
    "collapsed": true
   },
   "outputs": [],
   "source": []
  },
  {
   "cell_type": "markdown",
   "metadata": {},
   "source": [
    "# Models functions"
   ]
  },
  {
   "cell_type": "code",
   "execution_count": 100,
   "metadata": {
    "collapsed": true
   },
   "outputs": [],
   "source": [
    "def cross_validation(X, X_test, y, y_test, classifier, kf):\n",
    "    train_accuracy = []\n",
    "    test_accuracy = []\n",
    "    test_auc = []\n",
    "    pred_train_list = np.array([0 for _ in range(len(y))])\n",
    "    pred_test_list = np.array([0 for _ in range(len(y))])\n",
    "    test_prediction_list = []    #Global test predictions\n",
    "    train_prediction_list = []\n",
    "    \n",
    "    print(\"|-> Cross-Validation\")\n",
    "    \n",
    "    for train_index, test_index in kf.split(X):\n",
    "        X_train_, X_test_ = X[train_index], X[test_index]\n",
    "        y_train_, y_test_ = y[train_index], y[test_index]\n",
    "        \n",
    "        classifier.fit(X_train_, y_train_)\n",
    "        \n",
    "        pred_test = classifier.predict(X_test_)\n",
    "        pred_train = classifier.predict(X_train_)\n",
    "        test_prediction = classifier.predict(X_test)\n",
    "        train_prediction = classifier.predict(X)\n",
    "        \n",
    "        pred_train_list[train_index] = pred_train\n",
    "        pred_test_list[test_index] = pred_test\n",
    "        test_prediction_list.append(test_prediction.tolist())\n",
    "        train_prediction_list.append(train_prediction.tolist())\n",
    "        \n",
    "        test_accuracy.append(metrics.accuracy_score(y_test_, pred_test))\n",
    "        train_accuracy.append(metrics.accuracy_score(y_train_, pred_train))\n",
    "        test_auc.append(metrics.roc_auc_score(y_test_,pred_test))\n",
    "        \n",
    "        print(\"|--> Pass number {} : Accuracy = {}, AUC = {}\".format(len(test_accuracy), test_accuracy[-1], test_auc))\n",
    "        \n",
    "    test_prediction_list = np.array(test_prediction_list).T\n",
    "    final_test_prediction = [Counter(test_prediction_list[i]).most_common(1)[0][0] for i in range(len(test_prediction_list))]\n",
    "    \n",
    "    train_prediction_list = np.array(train_prediction_list).T\n",
    "    final_train_prediction = [Counter(train_prediction_list[i]).most_common(1)[0][0] for i in range(len(train_prediction_list))]\n",
    "    \n",
    "    \n",
    "    print(\"|-> Test data : Outter CV Accuracy = %0.3f, AUC = %0.3f, Precision = %0.3f, Recall = %0.3f\" % (metrics.accuracy_score(y_test,final_test_prediction),  \n",
    "                                                                                          metrics.roc_auc_score(y_test, final_test_prediction),\n",
    "                                                                                         metrics.precision_score(y_test, final_test_prediction),\n",
    "                                                                                                         metrics.recall_score(y_test, final_test_prediction)))\n",
    "    print(\"|-> Train data : Outter CV Accuracy = %0.3f, AUC = %0.3f, Precision = %0.3f, Recall = %0.3f\" % (metrics.accuracy_score(y,final_train_prediction),  \n",
    "                                                                                            metrics.roc_auc_score(y, final_train_prediction),\n",
    "                                                                                          metrics.precision_score(y, final_train_prediction),\n",
    "                                                                                          metrics.recall_score(y,final_train_prediction)))\n",
    "    \n",
    "    scores = [test_accuracy, train_accuracy, test_auc]\n",
    "    \n",
    "    return pred_test_list, pred_train_list, final_test_prediction, final_train_prediction, scores"
   ]
  },
  {
   "cell_type": "code",
   "execution_count": 101,
   "metadata": {
    "collapsed": true
   },
   "outputs": [],
   "source": [
    "kf = model_selection.KFold(n_splits=7, shuffle=False)"
   ]
  },
  {
   "cell_type": "markdown",
   "metadata": {},
   "source": [
    "### Logistic Regression"
   ]
  },
  {
   "cell_type": "code",
   "execution_count": 102,
   "metadata": {},
   "outputs": [],
   "source": [
    "from sklearn.model_selection import GridSearchCV"
   ]
  },
  {
   "cell_type": "code",
   "execution_count": 117,
   "metadata": {
    "collapsed": true
   },
   "outputs": [],
   "source": [
    "param_grid = {'C': [0.001, 0.01, 0.1, 1, 10, 100, 1000] \n",
    "             }\n",
    "\n",
    "logistic = linear_model.LogisticRegression(penalty='l1')\n",
    "\n",
    "grid_log = GridSearchCV(logistic, param_grid, cv = 7)"
   ]
  },
  {
   "cell_type": "code",
   "execution_count": 118,
   "metadata": {},
   "outputs": [
    {
     "name": "stdout",
     "output_type": "stream",
     "text": [
      "|-> Cross-Validation\n",
      "|--> Pass number 1 : Accuracy = 0.6666666666666666, AUC = [0.66136363636363638]\n",
      "|--> Pass number 2 : Accuracy = 0.7619047619047619, AUC = [0.66136363636363638, 0.76235294117647057]\n",
      "|--> Pass number 3 : Accuracy = 0.6428571428571429, AUC = [0.66136363636363638, 0.76235294117647057, 0.63411764705882356]\n",
      "|--> Pass number 4 : Accuracy = 0.5, AUC = [0.66136363636363638, 0.76235294117647057, 0.63411764705882356, 0.48798076923076916]\n",
      "|--> Pass number 5 : Accuracy = 0.4878048780487805, AUC = [0.66136363636363638, 0.76235294117647057, 0.63411764705882356, 0.48798076923076916, 0.47101449275362323]\n",
      "|--> Pass number 6 : Accuracy = 0.6585365853658537, AUC = [0.66136363636363638, 0.76235294117647057, 0.63411764705882356, 0.48798076923076916, 0.47101449275362323, 0.58974358974358976]\n",
      "|--> Pass number 7 : Accuracy = 0.5853658536585366, AUC = [0.66136363636363638, 0.76235294117647057, 0.63411764705882356, 0.48798076923076916, 0.47101449275362323, 0.58974358974358976, 0.58133971291866016]\n",
      "|-> Test data : Outter CV Accuracy = 0.575, AUC = 0.568, Precision = 0.500, Recall = 0.516\n",
      "|-> Train data : Outter CV Accuracy = 0.708, AUC = 0.692, Precision = 0.673, Recall = 0.590\n"
     ]
    }
   ],
   "source": [
    "pred_test_list, pred_train_list, pred_test, pred_train, scores = cross_validation(X_tr, X_te, y_tr, y_te, grid_log, kf)"
   ]
  },
  {
   "cell_type": "code",
   "execution_count": 119,
   "metadata": {},
   "outputs": [
    {
     "data": {
      "text/plain": [
       "LogisticRegression(C=0.1, class_weight=None, dual=False, fit_intercept=True,\n",
       "          intercept_scaling=1, max_iter=100, multi_class='ovr', n_jobs=1,\n",
       "          penalty='l1', random_state=None, solver='liblinear', tol=0.0001,\n",
       "          verbose=0, warm_start=False)"
      ]
     },
     "execution_count": 119,
     "metadata": {},
     "output_type": "execute_result"
    }
   ],
   "source": [
    "grid_log.best_estimator_"
   ]
  },
  {
   "cell_type": "code",
   "execution_count": 88,
   "metadata": {},
   "outputs": [
    {
     "data": {
      "text/plain": [
       "(0.72602739726027399, 0.54669811320754713)"
      ]
     },
     "execution_count": 88,
     "metadata": {},
     "output_type": "execute_result"
    }
   ],
   "source": [
    "pred = best_log.predict(X_te)\n",
    "metrics.accuracy_score(y_te, pred), metrics.roc_auc_score(y_te, pred)"
   ]
  },
  {
   "cell_type": "markdown",
   "metadata": {},
   "source": [
    "### SVM"
   ]
  },
  {
   "cell_type": "code",
   "execution_count": 112,
   "metadata": {},
   "outputs": [
    {
     "name": "stdout",
     "output_type": "stream",
     "text": [
      "|-> Cross-Validation\n",
      "|--> Pass number 1 : Accuracy = 0.6904761904761905, AUC = [0.6886363636363636]\n",
      "|--> Pass number 2 : Accuracy = 0.6904761904761905, AUC = [0.6886363636363636, 0.66470588235294126]\n",
      "|--> Pass number 3 : Accuracy = 0.6666666666666666, AUC = [0.6886363636363636, 0.66470588235294126, 0.64470588235294113]\n",
      "|--> Pass number 4 : Accuracy = 0.47619047619047616, AUC = [0.6886363636363636, 0.66470588235294126, 0.64470588235294113, 0.45673076923076916]\n",
      "|--> Pass number 5 : Accuracy = 0.4634146341463415, AUC = [0.6886363636363636, 0.66470588235294126, 0.64470588235294113, 0.45673076923076916, 0.44323671497584544]\n",
      "|--> Pass number 6 : Accuracy = 0.6585365853658537, AUC = [0.6886363636363636, 0.66470588235294126, 0.64470588235294113, 0.45673076923076916, 0.44323671497584544, 0.61794871794871797]\n",
      "|--> Pass number 7 : Accuracy = 0.6341463414634146, AUC = [0.6886363636363636, 0.66470588235294126, 0.64470588235294113, 0.45673076923076916, 0.44323671497584544, 0.61794871794871797, 0.63038277511961738]\n",
      "|-> Test data : Outter CV Accuracy = 0.630, AUC = 0.611, Precision = 0.577, Recall = 0.484\n",
      "|-> Train data : Outter CV Accuracy = 0.825, AUC = 0.809, Precision = 0.845, Recall = 0.713\n"
     ]
    }
   ],
   "source": [
    "svc = svm.SVC()\n",
    "param_grid_svm = {'C': [0.001, 0.01, 0.1, 1, 10, 100, 1000],\n",
    "              'kernel': ['linear', 'poly', 'sigmoid', 'rbf'],\n",
    "              'degree' : [2,3]\n",
    "             }\n",
    "grid_svm = GridSearchCV(svc, param_grid_svm, cv = 7)\n",
    "pred_test_list_svm, pred_train_list_svm, pred_test_svm, pred_train_svm, scores_svm = cross_validation(X_tr, X_te, y_tr, y_te, grid_svm, kf)"
   ]
  },
  {
   "cell_type": "code",
   "execution_count": 113,
   "metadata": {},
   "outputs": [
    {
     "data": {
      "text/plain": [
       "SVC(C=1, cache_size=200, class_weight=None, coef0=0.0,\n",
       "  decision_function_shape='ovr', degree=2, gamma='auto', kernel='rbf',\n",
       "  max_iter=-1, probability=False, random_state=None, shrinking=True,\n",
       "  tol=0.001, verbose=False)"
      ]
     },
     "execution_count": 113,
     "metadata": {},
     "output_type": "execute_result"
    }
   ],
   "source": [
    "grid_svm.best_estimator_"
   ]
  },
  {
   "cell_type": "markdown",
   "metadata": {},
   "source": [
    "### Random Forest"
   ]
  },
  {
   "cell_type": "code",
   "execution_count": 114,
   "metadata": {},
   "outputs": [
    {
     "name": "stdout",
     "output_type": "stream",
     "text": [
      "|-> Cross-Validation\n",
      "|--> Pass number 1 : Accuracy = 0.5952380952380952, AUC = [0.59318181818181814]\n",
      "|--> Pass number 2 : Accuracy = 0.6666666666666666, AUC = [0.59318181818181814, 0.63529411764705879]\n",
      "|--> Pass number 3 : Accuracy = 0.6666666666666666, AUC = [0.59318181818181814, 0.63529411764705879, 0.63529411764705879]\n",
      "|--> Pass number 4 : Accuracy = 0.7619047619047619, AUC = [0.59318181818181814, 0.63529411764705879, 0.63529411764705879, 0.73557692307692313]\n",
      "|--> Pass number 5 : Accuracy = 0.5853658536585366, AUC = [0.59318181818181814, 0.63529411764705879, 0.63529411764705879, 0.73557692307692313, 0.56400966183574874]\n",
      "|--> Pass number 6 : Accuracy = 0.8048780487804879, AUC = [0.59318181818181814, 0.63529411764705879, 0.63529411764705879, 0.73557692307692313, 0.56400966183574874, 0.74743589743589733]\n",
      "|--> Pass number 7 : Accuracy = 0.4634146341463415, AUC = [0.59318181818181814, 0.63529411764705879, 0.63529411764705879, 0.73557692307692313, 0.56400966183574874, 0.74743589743589733, 0.46411483253588515]\n",
      "|-> Test data : Outter CV Accuracy = 0.699, AUC = 0.683, Precision = 0.667, Recall = 0.581\n",
      "|-> Train data : Outter CV Accuracy = 1.000, AUC = 1.000, Precision = 1.000, Recall = 1.000\n"
     ]
    }
   ],
   "source": [
    "rd_forest = ensemble.RandomForestClassifier()\n",
    "param_grid_forest = {'n_estimators' : [11,12,15,17,18,20,25,30]\n",
    "                 }\n",
    "grid_forest = GridSearchCV(rd_forest, param_grid_forest, cv = 7)\n",
    "pred_test_list_rdf, pred_train_list_rdf, pred_test_rdf, pred_train_rdf, scores_rdf = cross_validation(X_tr, X_te, y_tr, y_te, grid_forest, kf)"
   ]
  },
  {
   "cell_type": "code",
   "execution_count": 115,
   "metadata": {},
   "outputs": [
    {
     "data": {
      "text/plain": [
       "RandomForestClassifier(bootstrap=True, class_weight=None, criterion='gini',\n",
       "            max_depth=None, max_features='auto', max_leaf_nodes=None,\n",
       "            min_impurity_decrease=0.0, min_impurity_split=None,\n",
       "            min_samples_leaf=1, min_samples_split=2,\n",
       "            min_weight_fraction_leaf=0.0, n_estimators=17, n_jobs=1,\n",
       "            oob_score=False, random_state=None, verbose=0,\n",
       "            warm_start=False)"
      ]
     },
     "execution_count": 115,
     "metadata": {},
     "output_type": "execute_result"
    }
   ],
   "source": [
    "grid_forest.best_estimator_"
   ]
  },
  {
   "cell_type": "code",
   "execution_count": null,
   "metadata": {
    "collapsed": true
   },
   "outputs": [],
   "source": []
  }
 ],
 "metadata": {
  "kernelspec": {
   "display_name": "Python 3",
   "language": "python",
   "name": "python3"
  },
  "language_info": {
   "codemirror_mode": {
    "name": "ipython",
    "version": 3
   },
   "file_extension": ".py",
   "mimetype": "text/x-python",
   "name": "python",
   "nbconvert_exporter": "python",
   "pygments_lexer": "ipython3",
   "version": "3.6.4"
  }
 },
 "nbformat": 4,
 "nbformat_minor": 2
}
