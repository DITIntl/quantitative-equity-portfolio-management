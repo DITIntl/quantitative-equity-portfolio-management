{
 "cells": [
  {
   "cell_type": "code",
   "execution_count": 365,
   "metadata": {},
   "outputs": [],
   "source": [
    "import numpy as np\n",
    "import pandas as pd\n",
    "import matplotlib.pyplot as plt\n",
    "from datetime import datetime\n",
    "import random\n",
    "from sklearn import model_selection, preprocessing, svm, metrics\n",
    "from sklearn.ensemble import RandomForestClassifier\n",
    "from sklearn.model_selection import GridSearchCV\n",
    "\n",
    "%matplotlib inline"
   ]
  },
  {
   "cell_type": "code",
   "execution_count": 366,
   "metadata": {},
   "outputs": [],
   "source": [
    "class Open_csv:\n",
    "    \n",
    "    def __init__(self):\n",
    "        pass\n",
    "    \n",
    "    def open(self,path_to_file):\n",
    "        data = np.asarray(pd.read_csv(path_to_file, delimiter=\",\").values)\n",
    "        return data"
   ]
  },
  {
   "cell_type": "code",
   "execution_count": 367,
   "metadata": {},
   "outputs": [],
   "source": [
    "open_csv = Open_csv()\n",
    "# open high low close"
   ]
  },
  {
   "cell_type": "code",
   "execution_count": null,
   "metadata": {},
   "outputs": [],
   "source": []
  },
  {
   "cell_type": "code",
   "execution_count": 332,
   "metadata": {},
   "outputs": [],
   "source": [
    "def f_1(vector):\n",
    "    return (vector[2]-vector[3])/(vector[1]+vector[4]) # (high-low)/(open+close)"
   ]
  },
  {
   "cell_type": "code",
   "execution_count": 368,
   "metadata": {},
   "outputs": [],
   "source": [
    "# garman-klass\n",
    "def f(vector):\n",
    "    # vector[1] = open ; vector[2] = high ; vector[3] = low ; vector[4] = close\n",
    "    return 12*(np.log(vector[2]/vector[3])**2)-(2*np.log(2)-1)*(np.log(vector[4]/vector[1])**2)"
   ]
  },
  {
   "cell_type": "code",
   "execution_count": 403,
   "metadata": {},
   "outputs": [],
   "source": [
    "# parkinson\n",
    "def f(vector):\n",
    "    # vector[1] = open ; vector[2] = high ; vector[3] = low ; vector[4] = close\n",
    "    return np.log(vector[2]/vector[3])"
   ]
  },
  {
   "cell_type": "code",
   "execution_count": 404,
   "metadata": {},
   "outputs": [],
   "source": [
    "def compute_function_returns(function,data):\n",
    "    returns = []\n",
    "    for i in range(len(data)):\n",
    "        returns.append(function(data[i]))\n",
    "    return np.asarray(returns)"
   ]
  },
  {
   "cell_type": "code",
   "execution_count": null,
   "metadata": {},
   "outputs": [],
   "source": []
  },
  {
   "cell_type": "code",
   "execution_count": 405,
   "metadata": {},
   "outputs": [],
   "source": [
    "stock_list = [\"AC.PA\", \"AI.PA\", \"AIR.PA\", \"ATO.PA\", \"BNP.PA\", \"EN.PA\", \"CAP.PA\", \"CA.PA\", \"ACA.PA\", \n",
    "          \"BN.PA\", \"ENGI.PA\", \"KER.PA\", \"OR.PA\", \"LHN.PA\", \"LR.PA\", \"MC.PA\", \"ML.PA\", \"ORA.PA\",\n",
    "          \"UG.PA\", \"SGO.PA\", \"SAN.PA\", \"SU.PA\", \"GLE.PA\", \"SW.PA\", \"FP.PA\", \"FR.PA\", \"VIE.PA\", \"DG.PA\", \"VIV.PA\"]"
   ]
  },
  {
   "cell_type": "code",
   "execution_count": 406,
   "metadata": {},
   "outputs": [],
   "source": [
    "stock_returns = []\n",
    "for stock_name in stock_list:\n",
    "    stock_returns.append(compute_function_returns(function=f_1,\n",
    "                                                 data = open_csv.open(\"data/\"+stock_name+\".csv\")))"
   ]
  },
  {
   "cell_type": "code",
   "execution_count": null,
   "metadata": {},
   "outputs": [],
   "source": []
  },
  {
   "cell_type": "code",
   "execution_count": 407,
   "metadata": {},
   "outputs": [
    {
     "data": {
      "image/png": "[encoded data removed]",
      "text/plain": [
       "<matplotlib.figure.Figure at 0x2966c134128>"
      ]
     },
     "metadata": {},
     "output_type": "display_data"
    }
   ],
   "source": [
    "plt.hist(np.log(stock_returns[0]),bins=200)\n",
    "plt.show()"
   ]
  },
  {
   "cell_type": "code",
   "execution_count": 408,
   "metadata": {},
   "outputs": [
    {
     "data": {
      "image/png": "[encoded data removed]",
      "text/plain": [
       "<matplotlib.figure.Figure at 0x2966db72208>"
      ]
     },
     "metadata": {},
     "output_type": "display_data"
    }
   ],
   "source": [
    "mu = np.mean(np.log(stock_returns[0]))\n",
    "sigma = np.std(np.log(stock_returns[0]))\n",
    "\n",
    "s = np.random.normal(mu, sigma, 1300)\n",
    "plt.hist(s, bins=200, normed=True)\n",
    "plt.show()"
   ]
  },
  {
   "cell_type": "code",
   "execution_count": null,
   "metadata": {},
   "outputs": [],
   "source": []
  },
  {
   "cell_type": "code",
   "execution_count": 409,
   "metadata": {},
   "outputs": [],
   "source": [
    "# heavy tail distribution of returns : we take log(returns) instead of returns"
   ]
  },
  {
   "cell_type": "code",
   "execution_count": 410,
   "metadata": {},
   "outputs": [],
   "source": [
    "log_returns = True"
   ]
  },
  {
   "cell_type": "code",
   "execution_count": null,
   "metadata": {},
   "outputs": [],
   "source": []
  },
  {
   "cell_type": "code",
   "execution_count": 411,
   "metadata": {},
   "outputs": [],
   "source": [
    "# classification baisse hausse"
   ]
  },
  {
   "cell_type": "code",
   "execution_count": 412,
   "metadata": {},
   "outputs": [],
   "source": [
    "def classify_vector(vector):\n",
    "    temp = [-1]*(len(vector)-1)\n",
    "    for i in range(1,len(vector)):\n",
    "        if vector[-(i+1)]>=vector[-i]: # hausse\n",
    "            temp[-i] = 1\n",
    "    return temp        "
   ]
  },
  {
   "cell_type": "code",
   "execution_count": null,
   "metadata": {},
   "outputs": [],
   "source": []
  },
  {
   "cell_type": "code",
   "execution_count": 413,
   "metadata": {},
   "outputs": [],
   "source": [
    "# ML for only one stock"
   ]
  },
  {
   "cell_type": "code",
   "execution_count": 414,
   "metadata": {},
   "outputs": [],
   "source": [
    "index_stock = random.randint(0,len(stock_returns)-1)\n",
    "returns = stock_returns[index_stock]\n",
    "\n",
    "if log_returns:\n",
    "    temp = np.empty(len(np.where(returns!=0)[0]))\n",
    "    for i in range(len(np.where(returns!=0)[0])):\n",
    "        temp[i] = returns[np.where(returns!=0)[0][i]]\n",
    "    returns = np.log(temp)"
   ]
  },
  {
   "cell_type": "code",
   "execution_count": null,
   "metadata": {},
   "outputs": [],
   "source": []
  },
  {
   "cell_type": "code",
   "execution_count": 415,
   "metadata": {},
   "outputs": [],
   "source": [
    "# depth of learning"
   ]
  },
  {
   "cell_type": "code",
   "execution_count": 416,
   "metadata": {},
   "outputs": [],
   "source": [
    "depth = 5"
   ]
  },
  {
   "cell_type": "code",
   "execution_count": 417,
   "metadata": {},
   "outputs": [],
   "source": [
    "X_ = []\n",
    "y_ = []\n",
    "\n",
    "for i in range(len(returns)-depth):\n",
    "    temp = classify_vector(returns)\n",
    "    y_.append(temp[i])\n",
    "    X_.append(np.array(temp[i+1:i+1+depth]))\n",
    "y_ = np.array(y_)"
   ]
  },
  {
   "cell_type": "code",
   "execution_count": 418,
   "metadata": {},
   "outputs": [],
   "source": [
    "# transform X_ to the required shape for ML algo"
   ]
  },
  {
   "cell_type": "code",
   "execution_count": 419,
   "metadata": {},
   "outputs": [],
   "source": [
    "test = np.empty((len(X_)-1,len(X_[0])))\n",
    "for i in range(len(test)):\n",
    "    test[i] = np.array(X_[i])\n",
    "X_ = test\n",
    "y_ = y_[:len(X_)]"
   ]
  },
  {
   "cell_type": "code",
   "execution_count": null,
   "metadata": {},
   "outputs": [],
   "source": []
  },
  {
   "cell_type": "code",
   "execution_count": 420,
   "metadata": {},
   "outputs": [],
   "source": [
    "def cross_validate(design_matrix, labels, regressor, cv_folds):\n",
    "\n",
    "    pred = np.zeros(labels.shape) # Hold all predictions, in correct order.\n",
    "    for tr, te in cv_folds:        \n",
    "        scaler = preprocessing.StandardScaler()\n",
    "        Xtr = scaler.fit_transform(design_matrix[tr,:])\n",
    "        ytr = labels[tr]\n",
    "        Xte = scaler.transform(design_matrix[te,:])\n",
    "        regressor.fit(Xtr, ytr)\n",
    "        pred[te] = (regressor.predict(Xte))\n",
    "        \n",
    "    return pred"
   ]
  },
  {
   "cell_type": "code",
   "execution_count": 421,
   "metadata": {},
   "outputs": [],
   "source": [
    "# Set up a stratified 10-fold cross-validation\n",
    "skf = model_selection.KFold(n_splits=10)\n",
    "skf.get_n_splits(X_, y_)\n",
    "folds = [(tr,te) for (tr,te) in skf.split(X_, y_)]"
   ]
  },
  {
   "cell_type": "code",
   "execution_count": null,
   "metadata": {},
   "outputs": [],
   "source": []
  },
  {
   "cell_type": "code",
   "execution_count": 422,
   "metadata": {},
   "outputs": [],
   "source": [
    "# random forest"
   ]
  },
  {
   "cell_type": "code",
   "execution_count": 423,
   "metadata": {},
   "outputs": [],
   "source": [
    "optimize_rf = True"
   ]
  },
  {
   "cell_type": "code",
   "execution_count": 424,
   "metadata": {},
   "outputs": [],
   "source": [
    "if optimize_rf:\n",
    "    param_grid = {'n_estimators':[1,10],\n",
    "            'max_features':[1,4],\n",
    "            'max_depth':[1,9]}\n",
    "\n",
    "    clf_rf = GridSearchCV(RandomForestClassifier(),\n",
    "                   param_grid)\n",
    "\n",
    "    ypred_randomforest = cross_validate(X_, y_, clf_rf, folds)\n",
    "    \n",
    "else:\n",
    "    ypred_randomforest = cross_validate(X_,y_,RandomForestClassifier(),folds)"
   ]
  },
  {
   "cell_type": "code",
   "execution_count": null,
   "metadata": {},
   "outputs": [],
   "source": []
  },
  {
   "cell_type": "code",
   "execution_count": 425,
   "metadata": {},
   "outputs": [],
   "source": [
    "# svm"
   ]
  },
  {
   "cell_type": "code",
   "execution_count": 426,
   "metadata": {},
   "outputs": [],
   "source": [
    "optimize_svm = True"
   ]
  },
  {
   "cell_type": "code",
   "execution_count": 427,
   "metadata": {},
   "outputs": [],
   "source": [
    "if optimize_svm:\n",
    "    param_grid = {'C':[0.01,10]}\n",
    "\n",
    "    clf_svm = GridSearchCV(svm.SVC(kernel='linear'),\n",
    "                   param_grid)\n",
    "\n",
    "    ypred_svm = cross_validate(X_, y_, clf_svm, folds)\n",
    "\n",
    "else:\n",
    "    ypred_svm = cross_validate(X_, y_, svm.SVC(kernel='linear'), folds)"
   ]
  },
  {
   "cell_type": "code",
   "execution_count": null,
   "metadata": {},
   "outputs": [],
   "source": []
  },
  {
   "cell_type": "code",
   "execution_count": 428,
   "metadata": {},
   "outputs": [
    {
     "name": "stdout",
     "output_type": "stream",
     "text": [
      "mean of |ypred_svm - y_|   :   0.7091194968553459\n",
      "mean of |ypred_randomforest - y_|   :   0.8034591194968553\n"
     ]
    }
   ],
   "source": [
    "print(\"mean of |ypred_svm - y_|   :   \"+str(np.mean(np.abs(ypred_svm-y_))))\n",
    "print(\"mean of |ypred_randomforest - y_|   :   \"+str(np.mean(np.abs(ypred_randomforest-y_))))"
   ]
  },
  {
   "cell_type": "code",
   "execution_count": 429,
   "metadata": {},
   "outputs": [
    {
     "name": "stdout",
     "output_type": "stream",
     "text": [
      "mean of |y1_ - y_|   :   0.9716981132075472\n",
      "mean of |y2_ - y_|   :   1.028301886792453\n",
      "mean of |y3_ - y_|   :   0.9575471698113207\n"
     ]
    }
   ],
   "source": [
    "# comparaison avec différents prédicteurs \"stupides\"\n",
    "y1_ = np.array([-1]*len(y_))\n",
    "y2_ = np.array([1]*len(y_))\n",
    "y3_ = np.empty(len(y_))\n",
    "for i in range(len(y_)):\n",
    "    y3_[i]=2*random.randint(0,1)-1\n",
    "\n",
    "print(\"mean of |y1_ - y_|   :   \"+str(np.mean(np.abs(y1_-y_))))\n",
    "print(\"mean of |y2_ - y_|   :   \"+str(np.mean(np.abs(y2_-y_))))\n",
    "print(\"mean of |y3_ - y_|   :   \"+str(np.mean(np.abs(y3_-y_))))"
   ]
  },
  {
   "cell_type": "code",
   "execution_count": 430,
   "metadata": {},
   "outputs": [],
   "source": [
    "# 1ER résultat : notre prédicteur prédit mieux qu'un prédicteur \"stupide\""
   ]
  },
  {
   "cell_type": "code",
   "execution_count": 431,
   "metadata": {},
   "outputs": [
    {
     "name": "stdout",
     "output_type": "stream",
     "text": [
      "accuracy score : 0.5212264150943396\n",
      "precision score : 0.5072\n",
      "recall score : 0.5129449838187702\n"
     ]
    }
   ],
   "source": [
    "print(\"accuracy score : \"+str(metrics.accuracy_score(y_,y3_)))\n",
    "print(\"precision score : \"+str(metrics.precision_score(y_,y3_)))\n",
    "print(\"recall score : \"+str(metrics.recall_score(y_,y3_)))"
   ]
  },
  {
   "cell_type": "code",
   "execution_count": 432,
   "metadata": {},
   "outputs": [],
   "source": [
    "# model evaluation for random forest"
   ]
  },
  {
   "cell_type": "code",
   "execution_count": 433,
   "metadata": {},
   "outputs": [
    {
     "name": "stdout",
     "output_type": "stream",
     "text": [
      "accuracy score : 0.5982704402515723\n",
      "precision score : 0.5914529914529915\n",
      "recall score : 0.5598705501618123\n"
     ]
    }
   ],
   "source": [
    "print(\"accuracy score : \"+str(metrics.accuracy_score(y_,ypred_randomforest)))\n",
    "print(\"precision score : \"+str(metrics.precision_score(y_,ypred_randomforest)))\n",
    "print(\"recall score : \"+str(metrics.recall_score(y_,ypred_randomforest)))"
   ]
  },
  {
   "cell_type": "code",
   "execution_count": 434,
   "metadata": {},
   "outputs": [
    {
     "data": {
      "image/png": "[encoded data removed]",
      "text/plain": [
       "<matplotlib.figure.Figure at 0x2966de366a0>"
      ]
     },
     "metadata": {},
     "output_type": "display_data"
    }
   ],
   "source": [
    "fpr_randomforest, tpr_randomforest, threshold_randomforest = metrics.roc_curve(y_,ypred_randomforest)\n",
    "roc_auc = metrics.auc(fpr, tpr)\n",
    "plt.title('ROC curve random forest')\n",
    "plt.plot(fpr, tpr, 'b', label = 'AUC = %0.2f' % roc_auc)\n",
    "plt.legend(loc = 'lower right')\n",
    "plt.plot([0, 1], [0, 1],'r--')\n",
    "plt.xlim([0, 1])\n",
    "plt.ylim([0, 1])\n",
    "plt.ylabel('True Positive Rate')\n",
    "plt.xlabel('False Positive Rate')\n",
    "plt.show()"
   ]
  },
  {
   "cell_type": "code",
   "execution_count": null,
   "metadata": {},
   "outputs": [],
   "source": []
  },
  {
   "cell_type": "code",
   "execution_count": 435,
   "metadata": {},
   "outputs": [],
   "source": [
    "# model evaluation for svm"
   ]
  },
  {
   "cell_type": "code",
   "execution_count": 436,
   "metadata": {},
   "outputs": [
    {
     "name": "stdout",
     "output_type": "stream",
     "text": [
      "accuracy score : 0.6454402515723271\n",
      "precision score : 0.6278713629402757\n",
      "recall score : 0.6634304207119741\n"
     ]
    }
   ],
   "source": [
    "print(\"accuracy score : \"+str(metrics.accuracy_score(y_,ypred_svm)))\n",
    "print(\"precision score : \"+str(metrics.precision_score(y_,ypred_svm)))\n",
    "print(\"recall score : \"+str(metrics.recall_score(y_,ypred_svm)))"
   ]
  },
  {
   "cell_type": "code",
   "execution_count": 437,
   "metadata": {},
   "outputs": [
    {
     "data": {
      "image/png": "[encoded data removed]",
      "text/plain": [
       "<matplotlib.figure.Figure at 0x2966c0dc630>"
      ]
     },
     "metadata": {},
     "output_type": "display_data"
    }
   ],
   "source": [
    "fpr_svm, tpr_svm, threshold_svm = metrics.roc_curve(y_,ypred_svm)\n",
    "roc_auc = metrics.auc(fpr_svm, tpr_svm)\n",
    "plt.title('ROC curve svm')\n",
    "plt.plot(fpr, tpr, 'b', label = 'AUC = %0.2f' % roc_auc)\n",
    "plt.legend(loc = 'lower right')\n",
    "plt.plot([0, 1], [0, 1],'r--')\n",
    "plt.xlim([0, 1])\n",
    "plt.ylim([0, 1])\n",
    "plt.ylabel('True Positive Rate')\n",
    "plt.xlabel('False Positive Rate')\n",
    "plt.show()"
   ]
  },
  {
   "cell_type": "code",
   "execution_count": null,
   "metadata": {},
   "outputs": [],
   "source": []
  }
 ],
 "metadata": {
  "kernelspec": {
   "display_name": "Python 3",
   "language": "python",
   "name": "python3"
  },
  "language_info": {
   "codemirror_mode": {
    "name": "ipython",
    "version": 3
   },
   "file_extension": ".py",
   "mimetype": "text/x-python",
   "name": "python",
   "nbconvert_exporter": "python",
   "pygments_lexer": "ipython3",
   "version": "3.6.4"
  }
 },
 "nbformat": 4,
 "nbformat_minor": 2
}
