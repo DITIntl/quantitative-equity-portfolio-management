{
 "cells": [
  {
   "cell_type": "markdown",
   "metadata": {},
   "source": [
    "## Deep Learning using the coursera tutorial"
   ]
  },
  {
   "cell_type": "markdown",
   "metadata": {},
   "source": [
    "## 1.Coding the different fonctions"
   ]
  },
  {
   "cell_type": "code",
   "execution_count": 260,
   "metadata": {},
   "outputs": [],
   "source": [
    "import numpy as np\n",
    "import h5py\n",
    "import matplotlib.pyplot as plt\n",
    "import pandas as pd"
   ]
  },
  {
   "cell_type": "code",
   "execution_count": 261,
   "metadata": {},
   "outputs": [],
   "source": [
    "def sigmoid(Z):\n",
    "    \"\"\" parameter : Z an array\n",
    "        return sigmoid(Z) an array\"\"\"\n",
    "    A=1/(1+np.exp(-Z))\n",
    "    cache=Z\n",
    "    assert(A.shape == Z.shape)\n",
    "    return A,cache"
   ]
  },
  {
   "cell_type": "code",
   "execution_count": 262,
   "metadata": {},
   "outputs": [
    {
     "data": {
      "text/plain": [
       "(array([0.26894142, 0.26894142, 0.26894142, 0.26894142, 0.26894142]),\n",
       " array([-1., -1., -1., -1., -1.]))"
      ]
     },
     "execution_count": 262,
     "metadata": {},
     "output_type": "execute_result"
    }
   ],
   "source": [
    "x=np.zeros(5)-1\n",
    "sigmoid(x)"
   ]
  },
  {
   "cell_type": "code",
   "execution_count": 263,
   "metadata": {},
   "outputs": [],
   "source": [
    "def relu(Z):\n",
    "    \"\"\" parameter : Z an array\n",
    "        return sigmoid(Z) an array\"\"\"\n",
    "    A=np.where(Z>=0,Z,0)\n",
    "    cache=Z\n",
    "    \n",
    "    assert(A.shape == Z.shape)\n",
    "    \n",
    "    return A,cache\n",
    "    "
   ]
  },
  {
   "cell_type": "code",
   "execution_count": 264,
   "metadata": {},
   "outputs": [
    {
     "data": {
      "text/plain": [
       "(array([0., 0., 0., 0., 0.]), array([-1., -1., -1., -1., -1.]))"
      ]
     },
     "execution_count": 264,
     "metadata": {},
     "output_type": "execute_result"
    }
   ],
   "source": [
    "relu(x)"
   ]
  },
  {
   "cell_type": "code",
   "execution_count": 265,
   "metadata": {},
   "outputs": [],
   "source": [
    "def relu_backward(dA, cache):\n",
    "    \"\"\"\n",
    "    Implement the backward propagation for a single RELU unit.\n",
    "    Arguments:\n",
    "    dA -- post-activation gradient, of any shape\n",
    "    cache -- 'Z' where we store for computing backward propagation efficiently\n",
    "    Returns:\n",
    "    dZ -- Gradient of the cost with respect to Z\n",
    "    \"\"\"\n",
    "    \n",
    "    Z = cache\n",
    "    dZ = np.array(dA, copy=True) # just converting dz to a correct object.\n",
    "    \n",
    "    # When z <= 0, you should set dz to 0 as well. \n",
    "    dZ[Z <= 0] = 0\n",
    "    \n",
    "    assert (dZ.shape == Z.shape)\n",
    "    \n",
    "    return dZ"
   ]
  },
  {
   "cell_type": "code",
   "execution_count": 266,
   "metadata": {},
   "outputs": [],
   "source": [
    "def sigmoid_backward(dA, cache):\n",
    "    \"\"\"\n",
    "    Implement the backward propagation for a single SIGMOID unit.\n",
    "    Arguments:\n",
    "    dA -- post-activation gradient, of any shape\n",
    "    cache -- 'Z' where we store for computing backward propagation efficiently\n",
    "    Returns:\n",
    "    dZ -- Gradient of the cost with respect to Z\n",
    "    \"\"\"\n",
    "    \n",
    "    Z = cache\n",
    "    \n",
    "    s = 1/(1+np.exp(-Z))\n",
    "    dZ = dA * s * (1-s)\n",
    "    \n",
    "    assert (dZ.shape == Z.shape)\n",
    "    \n",
    "    return dZ"
   ]
  },
  {
   "cell_type": "markdown",
   "metadata": {},
   "source": [
    "## 2-Layer Neural Network"
   ]
  },
  {
   "cell_type": "code",
   "execution_count": 267,
   "metadata": {},
   "outputs": [],
   "source": [
    "def initialize_parameters(n_x, n_h, n_y):\n",
    "    \"\"\"\n",
    "    Argument:\n",
    "    n_x -- size of the input layer\n",
    "    n_h -- size of the hidden layer\n",
    "    n_y -- size of the output layer\n",
    "    \n",
    "    Returns:\n",
    "    parameters -- python dictionary containing your parameters:\n",
    "                    W1 -- weight matrix of shape (n_h, n_x)\n",
    "                    b1 -- bias vector of shape (n_h, 1)\n",
    "                    W2 -- weight matrix of shape (n_y, n_h)\n",
    "                    b2 -- bias vector of shape (n_y, 1)\n",
    "    \"\"\"\n",
    "    \n",
    "    \n",
    "    ### START CODE HERE ### (≈ 4 lines of code)\n",
    "    W1 = np.random.randn(n_h,n_x)*0.01\n",
    "    b1 = np.zeros((n_h,1))\n",
    "    W2 = np.random.randn(n_y,n_h)*0.01\n",
    "    b2 = np.zeros((n_y,1))\n",
    "    ### END CODE HERE ###\n",
    "    \n",
    "    assert(W1.shape == (n_h, n_x))\n",
    "    assert(b1.shape == (n_h, 1))\n",
    "    assert(W2.shape == (n_y, n_h))\n",
    "    assert(b2.shape == (n_y, 1))\n",
    "    \n",
    "    parameters = {\"W1\": W1,\n",
    "                  \"b1\": b1,\n",
    "                  \"W2\": W2,\n",
    "                  \"b2\": b2}\n",
    "    \n",
    "    return parameters    "
   ]
  },
  {
   "cell_type": "code",
   "execution_count": 268,
   "metadata": {},
   "outputs": [],
   "source": [
    "def linear_forward(A, W, b):\n",
    "    \"\"\"\n",
    "    Implement the linear part of a layer's forward propagation.\n",
    "\n",
    "    Arguments:\n",
    "    A -- activations from previous layer (or input data): (size of previous layer, number of examples)\n",
    "    W -- weights matrix: numpy array of shape (size of current layer, size of previous layer)\n",
    "    b -- bias vector, numpy array of shape (size of the current layer, 1)\n",
    "\n",
    "    Returns:\n",
    "    Z -- the input of the activation function, also called pre-activation parameter \n",
    "    cache -- a python dictionary containing \"A\", \"W\" and \"b\" ; stored for computing the backward pass efficiently\n",
    "    \"\"\"\n",
    "    \n",
    "    ### START CODE HERE ### (≈ 1 line of code)\n",
    "    Z =  np.dot(W,A)+b\n",
    "    ### END CODE HERE ###\n",
    "    \n",
    "    assert(Z.shape == (W.shape[0], A.shape[1]))\n",
    "    cache = (A, W, b)\n",
    "    \n",
    "    return Z, cache"
   ]
  },
  {
   "cell_type": "code",
   "execution_count": 269,
   "metadata": {},
   "outputs": [],
   "source": [
    "def linear_activation_forward(A_prev, W, b, activation):\n",
    "    \"\"\"\n",
    "    Implement the forward propagation for the LINEAR->ACTIVATION layer\n",
    "\n",
    "    Arguments:\n",
    "    A_prev -- activations from previous layer (or input data): (size of previous layer, number of examples)\n",
    "    W -- weights matrix: numpy array of shape (size of current layer, size of previous layer)\n",
    "    b -- bias vector, numpy array of shape (size of the current layer, 1)\n",
    "    activation -- the activation to be used in this layer, stored as a text string: \"sigmoid\" or \"relu\"\n",
    "\n",
    "    Returns:\n",
    "    A -- the output of the activation function, also called the post-activation value \n",
    "    cache -- a python dictionary containing \"linear_cache\" and \"activation_cache\";\n",
    "             stored for computing the backward pass efficiently\n",
    "    \"\"\"\n",
    "    \n",
    "    if activation == \"sigmoid\":\n",
    "        # Inputs: \"A_prev, W, b\". Outputs: \"A, activation_cache\".\n",
    "        ### START CODE HERE ### (≈ 2 lines of code)\n",
    "        Z, linear_cache = linear_forward(A_prev,W,b)\n",
    "        A, activation_cache = sigmoid(Z)\n",
    "        ### END CODE HERE ###\n",
    "    \n",
    "    elif activation == \"relu\":\n",
    "        # Inputs: \"A_prev, W, b\". Outputs: \"A, activation_cache\".\n",
    "        ### START CODE HERE ### (≈ 2 lines of code)\n",
    "        Z, linear_cache = linear_forward(A_prev,W,b)\n",
    "        A, activation_cache = relu(Z)\n",
    "        ### END CODE HERE ###\n",
    "    \n",
    "    assert (A.shape == (W.shape[0], A_prev.shape[1]))\n",
    "    cache = (linear_cache, activation_cache)\n",
    "\n",
    "    return A, cache"
   ]
  },
  {
   "cell_type": "code",
   "execution_count": 270,
   "metadata": {},
   "outputs": [],
   "source": [
    "def compute_cost(AL, Y):\n",
    "    \"\"\"\n",
    "    Implement the cost function defined by equation (7).\n",
    "\n",
    "    Arguments:\n",
    "    AL -- probability vector corresponding to your label predictions, shape (1, number of examples)\n",
    "    Y -- true \"label\" vector (for example: containing 0 if non-cat, 1 if cat), shape (1, number of examples)\n",
    "\n",
    "    Returns:\n",
    "    cost -- cross-entropy cost\n",
    "    \"\"\"\n",
    "    \n",
    "    m = Y.shape[1]\n",
    "\n",
    "    # Compute loss from aL and y.\n",
    "    ### START CODE HERE ### (≈ 1 lines of code)\n",
    "    cost = -1/m*np.sum(Y*np.log(AL)+(1-Y)*np.log(1-AL))\n",
    "    ### END CODE HERE ###\n",
    "    \n",
    "    cost = np.squeeze(cost)      # To make sure your cost's shape is what we expect (e.g. this turns [[17]] into 17).\n",
    "    assert(cost.shape == ())\n",
    "    \n",
    "    return cost"
   ]
  },
  {
   "cell_type": "code",
   "execution_count": 271,
   "metadata": {},
   "outputs": [],
   "source": [
    "def linear_backward(dZ, cache):\n",
    "    \"\"\"\n",
    "    Implement the linear portion of backward propagation for a single layer (layer l)\n",
    "\n",
    "    Arguments:\n",
    "    dZ -- Gradient of the cost with respect to the linear output (of current layer l)\n",
    "    cache -- tuple of values (A_prev, W, b) coming from the forward propagation in the current layer\n",
    "\n",
    "    Returns:\n",
    "    dA_prev -- Gradient of the cost with respect to the activation (of the previous layer l-1), same shape as A_prev\n",
    "    dW -- Gradient of the cost with respect to W (current layer l), same shape as W\n",
    "    db -- Gradient of the cost with respect to b (current layer l), same shape as b\n",
    "    \"\"\"\n",
    "    A_prev, W, b = cache\n",
    "    m = A_prev.shape[1]\n",
    "\n",
    "    ### START CODE HERE ### (≈ 3 lines of code)\n",
    "    dW = 1/m*np.dot(dZ,A_prev.T)\n",
    "    db = 1/m*np.sum(dZ,axis=1,keepdims=True)\n",
    "    dA_prev = np.dot(W.T,dZ)\n",
    "    ### END CODE HERE ###\n",
    "    \n",
    "    assert (dA_prev.shape == A_prev.shape)\n",
    "    assert (dW.shape == W.shape)\n",
    "    assert (db.shape == b.shape)\n",
    "    \n",
    "    return dA_prev, dW, db"
   ]
  },
  {
   "cell_type": "code",
   "execution_count": 272,
   "metadata": {},
   "outputs": [],
   "source": [
    "def linear_activation_backward(dA, cache, activation):\n",
    "    \"\"\"\n",
    "    Implement the backward propagation for the LINEAR->ACTIVATION layer.\n",
    "    \n",
    "    Arguments:\n",
    "    dA -- post-activation gradient for current layer l \n",
    "    cache -- tuple of values (linear_cache, activation_cache) we store for computing backward propagation efficiently\n",
    "    activation -- the activation to be used in this layer, stored as a text string: \"sigmoid\" or \"relu\"\n",
    "    \n",
    "    Returns:\n",
    "    dA_prev -- Gradient of the cost with respect to the activation (of the previous layer l-1), same shape as A_prev\n",
    "    dW -- Gradient of the cost with respect to W (current layer l), same shape as W\n",
    "    db -- Gradient of the cost with respect to b (current layer l), same shape as b\n",
    "    \"\"\"\n",
    "    linear_cache, activation_cache = cache\n",
    "    \n",
    "    if activation == \"relu\":\n",
    "        ### START CODE HERE ### (≈ 2 lines of code)\n",
    "        dZ = relu_backward(dA,activation_cache)\n",
    "        dA_prev, dW, db = linear_backward(dZ,linear_cache)\n",
    "        ### END CODE HERE ###\n",
    "        \n",
    "    elif activation == \"sigmoid\":\n",
    "        ### START CODE HERE ### (≈ 2 lines of code)\n",
    "        dZ = sigmoid_backward(dA,activation_cache)\n",
    "        dA_prev, dW, db = linear_backward(dZ,linear_cache)\n",
    "        ### END CODE HERE ###\n",
    "    \n",
    "    return dA_prev, dW, db"
   ]
  },
  {
   "cell_type": "code",
   "execution_count": 273,
   "metadata": {},
   "outputs": [],
   "source": [
    "def update_parameters(parameters, grads, learning_rate):\n",
    "    \"\"\"\n",
    "    Update parameters using gradient descent\n",
    "    \n",
    "    Arguments:\n",
    "    parameters -- python dictionary containing your parameters \n",
    "    grads -- python dictionary containing your gradients, output of L_model_backward\n",
    "    \n",
    "    Returns:\n",
    "    parameters -- python dictionary containing your updated parameters \n",
    "                  parameters[\"W\" + str(l)] = ... \n",
    "                  parameters[\"b\" + str(l)] = ...\n",
    "    \"\"\"\n",
    "    \n",
    "    L = len(parameters) // 2 # number of layers in the neural network\n",
    "\n",
    "    # Update rule for each parameter. Use a for loop.\n",
    "    ### START CODE HERE ### (≈ 3 lines of code)\n",
    "    for l in range(L):\n",
    "        parameters[\"W\" + str(l+1)] += -learning_rate*grads[\"dW\" + str(l+1)]\n",
    "        parameters[\"b\" + str(l+1)] += -learning_rate*grads[\"db\" + str(l+1)]\n",
    "        \n",
    "    ### END CODE HERE ###\n",
    "    return parameters"
   ]
  },
  {
   "cell_type": "markdown",
   "metadata": {},
   "source": [
    "## Dataset but with no transformation"
   ]
  },
  {
   "cell_type": "code",
   "execution_count": 274,
   "metadata": {},
   "outputs": [],
   "source": [
    "historic_price = pd.read_csv(\"/Users/serrano/Documents/cours_centrale/projet_inno/git/projets8/scripts_Python/data/historic_price/\"+'BNP'+\".PA.csv\", sep=\",\")\n",
    "X_clf = np.array(historic_price.drop(['Date','Close','Adj close'], axis=1).values)\n",
    "y = np.array(historic_price['Close'].values)\n",
    "X_clf=X_clf[1:,:]\n",
    "y_clf=np.zeros((1,len(y)-1))\n",
    "for i in range(len(y)-1):\n",
    "    if y[i]>=y[i+1]:\n",
    "        y_clf[0,i]=1\n",
    "        \n",
    "y_clf=np.array(y_clf)\n",
    "X_clf=X_clf.T\n"
   ]
  },
  {
   "cell_type": "code",
   "execution_count": 275,
   "metadata": {},
   "outputs": [
    {
     "name": "stdout",
     "output_type": "stream",
     "text": [
      "(4, 1277)\n",
      "(1, 1277)\n"
     ]
    }
   ],
   "source": [
    "np.squeeze(y_clf)\n",
    "print(X_clf.shape)\n",
    "print(y_clf.shape)"
   ]
  },
  {
   "cell_type": "code",
   "execution_count": 276,
   "metadata": {},
   "outputs": [],
   "source": [
    "n_x = 4     \n",
    "n_h = 3\n",
    "n_y = 1\n",
    "layers_dims = (n_x, n_h, n_y)"
   ]
  },
  {
   "cell_type": "code",
   "execution_count": 277,
   "metadata": {},
   "outputs": [],
   "source": [
    "def predict_2(X,Y,parameters):\n",
    "    W1 = parameters[\"W1\"]\n",
    "    b1 = parameters[\"b1\"]\n",
    "    W2 = parameters[\"W2\"]\n",
    "    b2 = parameters[\"b2\"]\n",
    "    \n",
    "    Z,cache1=linear_activation_forward(X, W1, b1, \"relu\")\n",
    "    A,cache2=linear_activation_forward(Z, W2, b2, \"sigmoid\")\n",
    "    A=np.where(A>=0.5,1,0)\n",
    "    \n",
    "    return 1-np.mean(abs(Y-A))\n",
    "    "
   ]
  },
  {
   "cell_type": "code",
   "execution_count": 278,
   "metadata": {},
   "outputs": [],
   "source": [
    "def two_layer_model(X, Y, layers_dims, learning_rate = 0.0075, num_iterations = 3000, print_cost=False):\n",
    "    \"\"\"\n",
    "    Implements a two-layer neural network: LINEAR->RELU->LINEAR->SIGMOID.\n",
    "    \n",
    "    Arguments:\n",
    "    X -- input data, of shape (n_x, number of examples)\n",
    "    Y -- true \"label\" vector (containing 0 if cat, 1 if non-cat), of shape (1, number of examples)\n",
    "    layers_dims -- dimensions of the layers (n_x, n_h, n_y)\n",
    "    num_iterations -- number of iterations of the optimization loop\n",
    "    learning_rate -- learning rate of the gradient descent update rule\n",
    "    print_cost -- If set to True, this will print the cost every 100 iterations \n",
    "    \n",
    "    Returns:\n",
    "    parameters -- a dictionary containing W1, W2, b1, and b2\n",
    "    \"\"\"\n",
    "    \n",
    "    grads = {}\n",
    "    costs = []                              # to keep track of the cost\n",
    "    m = X.shape[1]                           # number of examples\n",
    "    (n_x, n_h, n_y) = layers_dims\n",
    "    \n",
    "    # Initialize parameters dictionary, by calling one of the functions you'd previously implemented\n",
    "    ### START CODE HERE ### (≈ 1 line of code)\n",
    "    parameters = initialize_parameters(n_x, n_h, n_y)\n",
    "    ### END CODE HERE ###\n",
    "    \n",
    "    # Get W1, b1, W2 and b2 from the dictionary parameters.\n",
    "    W1 = parameters[\"W1\"]\n",
    "    b1 = parameters[\"b1\"]\n",
    "    W2 = parameters[\"W2\"]\n",
    "    b2 = parameters[\"b2\"]\n",
    "    \n",
    "    # Loop (gradient descent)\n",
    "\n",
    "    for i in range(0, num_iterations):\n",
    "\n",
    "        # Forward propagation: LINEAR -> RELU -> LINEAR -> SIGMOID. Inputs: \"X, W1, b1, W2, b2\". Output: \"A1, cache1, A2, cache2\".\n",
    "        ### START CODE HERE ### (≈ 2 lines of code)\n",
    "        A1, cache1 = linear_activation_forward(X, W1, b1, \"relu\")\n",
    "        A2, cache2 = linear_activation_forward(A1, W2, b2, \"sigmoid\")\n",
    "        ### END CODE HERE ###\n",
    "        \n",
    "        # Compute cost\n",
    "        ### START CODE HERE ### (≈ 1 line of code)\n",
    "        cost = compute_cost(A2, Y)\n",
    "        ### END CODE HERE ###\n",
    "        \n",
    "        # Initializing backward propagation\n",
    "        dA2 = - (np.divide(Y, A2) - np.divide(1 - Y, 1 - A2))\n",
    "        \n",
    "        # Backward propagation. Inputs: \"dA2, cache2, cache1\". Outputs: \"dA1, dW2, db2; also dA0 (not used), dW1, db1\".\n",
    "        ### START CODE HERE ### (≈ 2 lines of code)\n",
    "        dA1, dW2, db2 = linear_activation_backward(dA2, cache2, \"sigmoid\")\n",
    "        dA0, dW1, db1 = linear_activation_backward(dA1, cache1, \"relu\")\n",
    "        ### END CODE HERE ###\n",
    "        \n",
    "        # Set grads['dWl'] to dW1, grads['db1'] to db1, grads['dW2'] to dW2, grads['db2'] to db2\n",
    "        grads['dW1'] = dW1\n",
    "        grads['db1'] = db1\n",
    "        grads['dW2'] = dW2\n",
    "        grads['db2'] = db2\n",
    "        \n",
    "        # Update parameters.\n",
    "        ### START CODE HERE ### (approx. 1 line of code)\n",
    "        parameters = update_parameters(parameters, grads, learning_rate)\n",
    "        ### END CODE HERE ###\n",
    "\n",
    "        # Retrieve W1, b1, W2, b2 from parameters\n",
    "        W1 = parameters[\"W1\"]\n",
    "        b1 = parameters[\"b1\"]\n",
    "        W2 = parameters[\"W2\"]\n",
    "        b2 = parameters[\"b2\"]\n",
    "        \n",
    "        # Print the cost every 100 training example\n",
    "        if print_cost and i % 100 == 0:\n",
    "            print(\"Cost after iteration {}: {}\".format(i, np.squeeze(cost)))\n",
    "        if print_cost and i % 100 == 0:\n",
    "            costs.append(cost)\n",
    "       \n",
    "    # plot the cost\n",
    "\n",
    "    plt.plot(np.squeeze(costs))\n",
    "    plt.ylabel('cost')\n",
    "    plt.xlabel('iterations (per tens)')\n",
    "    plt.title(\"Learning rate =\" + str(learning_rate))\n",
    "    plt.show()\n",
    "    \n",
    "    return parameters"
   ]
  },
  {
   "cell_type": "code",
   "execution_count": 279,
   "metadata": {},
   "outputs": [],
   "source": [
    "from sklearn import model_selection\n",
    "from sklearn import preprocessing\n",
    "Xtr, Xte, ytr, yte = model_selection.train_test_split(X_clf.T, y_clf.T, \n",
    "                                                      test_size=0.3)\n",
    "\n",
    "Xtr = preprocessing.scale(Xtr)\n",
    "\n",
    "Xtr, Xte, ytr, yte =Xtr.T, Xte.T, ytr.T, yte.T"
   ]
  },
  {
   "cell_type": "code",
   "execution_count": 280,
   "metadata": {},
   "outputs": [
    {
     "data": {
      "text/plain": [
       "(4, 893)"
      ]
     },
     "execution_count": 280,
     "metadata": {},
     "output_type": "execute_result"
    }
   ],
   "source": [
    "Xtr.shape\n"
   ]
  },
  {
   "cell_type": "code",
   "execution_count": 281,
   "metadata": {},
   "outputs": [
    {
     "name": "stdout",
     "output_type": "stream",
     "text": [
      "Cost after iteration 0: 0.6931478143212833\n",
      "Cost after iteration 100: 0.6914305285529037\n",
      "Cost after iteration 200: 0.6894886578660798\n",
      "Cost after iteration 300: 0.6892041458037835\n",
      "Cost after iteration 400: 0.6890971532072452\n",
      "Cost after iteration 500: 0.6890717798196817\n",
      "Cost after iteration 600: 0.6890539894749947\n",
      "Cost after iteration 700: 0.689034369943563\n",
      "Cost after iteration 800: 0.689017386924149\n",
      "Cost after iteration 900: 0.6889992106190254\n",
      "Cost after iteration 1000: 0.6889793751394346\n",
      "Cost after iteration 1100: 0.6889581632649592\n",
      "Cost after iteration 1200: 0.688936140021534\n",
      "Cost after iteration 1300: 0.6889121634154992\n",
      "Cost after iteration 1400: 0.6888817081641244\n",
      "Cost after iteration 1500: 0.6888485420787501\n",
      "Cost after iteration 1600: 0.6888150704391541\n",
      "Cost after iteration 1700: 0.6887777129631099\n",
      "Cost after iteration 1800: 0.6887308861356488\n",
      "Cost after iteration 1900: 0.6886663388142185\n",
      "Cost after iteration 2000: 0.6885991644303454\n",
      "Cost after iteration 2100: 0.6885293248485362\n",
      "Cost after iteration 2200: 0.6884606682391736\n",
      "Cost after iteration 2300: 0.6883807874284306\n",
      "Cost after iteration 2400: 0.6882864114467163\n"
     ]
    },
    {
     "data": {
      "image/png": "[encoded data removed]",
      "text/plain": [
       "<matplotlib.figure.Figure at 0x1a12ca2b00>"
      ]
     },
     "metadata": {},
     "output_type": "display_data"
    }
   ],
   "source": [
    "parameters = two_layer_model(Xtr, ytr,learning_rate = 1 ,layers_dims = (n_x, n_h, n_y), num_iterations = 2500, print_cost=True)"
   ]
  },
  {
   "cell_type": "code",
   "execution_count": 282,
   "metadata": {},
   "outputs": [
    {
     "name": "stdout",
     "output_type": "stream",
     "text": [
      "0.5520716685330347\n"
     ]
    }
   ],
   "source": [
    "predictions_train = predict_2(Xtr, ytr, parameters)\n",
    "print(predictions_train)"
   ]
  },
  {
   "cell_type": "markdown",
   "metadata": {},
   "source": [
    "## L-Layer Network"
   ]
  },
  {
   "cell_type": "code",
   "execution_count": 283,
   "metadata": {},
   "outputs": [],
   "source": [
    "def initialize_parameters_deep(layer_dims):\n",
    "    \"\"\"\n",
    "    Arguments:\n",
    "    layer_dims -- python array (list) containing the dimensions of each layer in our network\n",
    "    \n",
    "    Returns:\n",
    "    parameters -- python dictionary containing your parameters \"W1\", \"b1\", ..., \"WL\", \"bL\":\n",
    "                    Wl -- weight matrix of shape (layer_dims[l], layer_dims[l-1])\n",
    "                    bl -- bias vector of shape (layer_dims[l], 1)\n",
    "    \"\"\"\n",
    "    \n",
    "    parameters = {}\n",
    "    L = len(layer_dims)            # number of layers in the network\n",
    "\n",
    "    for l in range(1, L):\n",
    "        ### START CODE HERE ### (≈ 2 lines of code)\n",
    "        parameters['W' + str(l)] = np.random.randn(layer_dims[l], layer_dims[l-1]) * 0.01\n",
    "        parameters['b' + str(l)] = np.zeros((layer_dims[l], 1))\n",
    "        ### END CODE HERE ###\n",
    "        \n",
    "        assert(parameters['W' + str(l)].shape == (layer_dims[l], layer_dims[l-1]))\n",
    "        assert(parameters['b' + str(l)].shape == (layer_dims[l], 1))\n",
    "\n",
    "        \n",
    "    return parameters"
   ]
  },
  {
   "cell_type": "code",
   "execution_count": 284,
   "metadata": {},
   "outputs": [],
   "source": [
    "def L_model_forward(X, parameters):\n",
    "    \"\"\"\n",
    "    Implement forward propagation for the [LINEAR->RELU]*(L-1)->LINEAR->SIGMOID computation\n",
    "    \n",
    "    Arguments:\n",
    "    X -- data, numpy array of shape (input size, number of examples)\n",
    "    parameters -- output of initialize_parameters_deep()\n",
    "    \n",
    "    Returns:\n",
    "    AL -- last post-activation value\n",
    "    caches -- list of caches containing:\n",
    "                every cache of linear_activation_forward() (there are L-1 of them, indexed from 0 to L-1)\n",
    "    \"\"\"\n",
    "\n",
    "    caches = []\n",
    "    A = X\n",
    "    L = len(parameters) // 2                  # number of layers in the neural network\n",
    "    \n",
    "    # Implement [LINEAR -> RELU]*(L-1). Add \"cache\" to the \"caches\" list.\n",
    "    for l in range(1, L):\n",
    "        A_prev = A \n",
    "        ### START CODE HERE ### (≈ 2 lines of code)\n",
    "        A, cache = linear_activation_forward(A_prev, parameters['W' + str(l)], parameters['b' + str(l)], \"relu\")\n",
    "        caches.append(cache)\n",
    "        ### END CODE HERE ###\n",
    "    \n",
    "    # Implement LINEAR -> SIGMOID. Add \"cache\" to the \"caches\" list.\n",
    "    ### START CODE HERE ### (≈ 2 lines of code)\n",
    "    AL, cache = linear_activation_forward(A, parameters['W' + str(L)], parameters['b' + str(L)], \"sigmoid\")\n",
    "    caches.append(cache)\n",
    "    ### END CODE HERE ###\n",
    "    assert(AL.shape == (1,X.shape[1]))\n",
    "            \n",
    "    return AL, caches"
   ]
  },
  {
   "cell_type": "code",
   "execution_count": 285,
   "metadata": {},
   "outputs": [],
   "source": [
    "def L_model_backward(AL, Y, caches):\n",
    "    \"\"\"\n",
    "    Implement the backward propagation for the [LINEAR->RELU] * (L-1) -> LINEAR -> SIGMOID group\n",
    "    \n",
    "    Arguments:\n",
    "    AL -- probability vector, output of the forward propagation (L_model_forward())\n",
    "    Y -- true \"label\" vector (containing 0 if non-cat, 1 if cat)\n",
    "    caches -- list of caches containing:\n",
    "                every cache of linear_activation_forward() with \"relu\" (it's caches[l], for l in range(L-1) i.e l = 0...L-2)\n",
    "                the cache of linear_activation_forward() with \"sigmoid\" (it's caches[L-1])\n",
    "    \n",
    "    Returns:\n",
    "    grads -- A dictionary with the gradients\n",
    "             grads[\"dA\" + str(l)] = ... \n",
    "             grads[\"dW\" + str(l)] = ...\n",
    "             grads[\"db\" + str(l)] = ... \n",
    "    \"\"\"\n",
    "    grads = {}\n",
    "    L = len(caches) # the number of layers\n",
    "    m = AL.shape[1]\n",
    "    Y = Y.reshape(AL.shape) # after this line, Y is the same shape as AL\n",
    "    \n",
    "    # Initializing the backpropagation\n",
    "    ### START CODE HERE ### (1 line of code)\n",
    "    dAL = - (np.divide(Y, AL) - np.divide(1 - Y, 1 - AL))\n",
    "    ### END CODE HERE ###\n",
    "    \n",
    "    # Lth layer (SIGMOID -> LINEAR) gradients. Inputs: \"dAL, current_cache\". Outputs: \"grads[\"dAL-1\"], grads[\"dWL\"], grads[\"dbL\"]\n",
    "    ### START CODE HERE ### (approx. 2 lines)\n",
    "    current_cache = caches[L-1]\n",
    "    grads[\"dA\" + str(L-1)], grads[\"dW\" + str(L)], grads[\"db\" + str(L)] = linear_activation_backward(dAL, current_cache, \"sigmoid\")\n",
    "    ### END CODE HERE ###\n",
    "    \n",
    "    # Loop from l=L-2 to l=0\n",
    "    for l in reversed(range(L-1)):\n",
    "        # lth layer: (RELU -> LINEAR) gradients.\n",
    "        # Inputs: \"grads[\"dA\" + str(l + 1)], current_cache\". Outputs: \"grads[\"dA\" + str(l)] , grads[\"dW\" + str(l + 1)] , grads[\"db\" + str(l + 1)] \n",
    "        ### START CODE HERE ### (approx. 5 lines)\n",
    "        current_cache = caches[l]\n",
    "        dA_prev_temp, dW_temp, db_temp = linear_activation_backward(grads[\"dA\" + str(l+1)], current_cache, \"relu\")\n",
    "        grads[\"dA\" + str(l)] = dA_prev_temp\n",
    "        grads[\"dW\" + str(l + 1)] = dW_temp\n",
    "        grads[\"db\" + str(l + 1)] = db_temp\n",
    "        ### END CODE HERE ###\n",
    "\n",
    "    return grads"
   ]
  },
  {
   "cell_type": "code",
   "execution_count": 286,
   "metadata": {},
   "outputs": [],
   "source": [
    "def L_layer_model(X, Y, layers_dims, learning_rate = 0.0075, num_iterations = 3000, print_cost=False):#lr was 0.009\n",
    "    \"\"\"\n",
    "    Implements a L-layer neural network: [LINEAR->RELU]*(L-1)->LINEAR->SIGMOID.\n",
    "    \n",
    "    Arguments:\n",
    "    X -- data, numpy array of shape (number of examples, num_px * num_px * 3)\n",
    "    Y -- true \"label\" vector (containing 0 if cat, 1 if non-cat), of shape (1, number of examples)\n",
    "    layers_dims -- list containing the input size and each layer size, of length (number of layers + 1).\n",
    "    learning_rate -- learning rate of the gradient descent update rule\n",
    "    num_iterations -- number of iterations of the optimization loop\n",
    "    print_cost -- if True, it prints the cost every 100 steps\n",
    "    \n",
    "    Returns:\n",
    "    parameters -- parameters learnt by the model. They can then be used to predict.\n",
    "    \"\"\"\n",
    "\n",
    "    costs = []                         # keep track of cost\n",
    "    \n",
    "    # Parameters initialization. (≈ 1 line of code)\n",
    "    ### START CODE HERE ###\n",
    "    parameters = initialize_parameters_deep(layer_dims)\n",
    "    ### END CODE HERE ###\n",
    "    \n",
    "    # Loop (gradient descent)\n",
    "    for i in range(0, num_iterations):\n",
    "\n",
    "        # Forward propagation: [LINEAR -> RELU]*(L-1) -> LINEAR -> SIGMOID.\n",
    "        ### START CODE HERE ### (≈ 1 line of code)\n",
    "        AL, caches = L_model_forward(X, parameters)\n",
    "        ### END CODE HERE ###\n",
    "        \n",
    "        # Compute cost.\n",
    "        ### START CODE HERE ### (≈ 1 line of code)\n",
    "        cost = compute_cost(AL,Y)\n",
    "        ### END CODE HERE ###\n",
    "    \n",
    "        # Backward propagation.\n",
    "        ### START CODE HERE ### (≈ 1 line of code)\n",
    "        grads = L_model_backward(AL, Y, caches)\n",
    "        ### END CODE HERE ###\n",
    " \n",
    "        # Update parameters.\n",
    "        ### START CODE HERE ### (≈ 1 line of code)\n",
    "        parameters = update_parameters(parameters, grads, learning_rate)\n",
    "        ### END CODE HERE ###\n",
    "                \n",
    "        # Print the cost every 100 training example\n",
    "        if print_cost and i % 100 == 0:\n",
    "            print (\"Cost after iteration %i: %f\" %(i, cost))\n",
    "        if print_cost and i % 100 == 0:\n",
    "            costs.append(cost)\n",
    "            \n",
    "    # plot the cost\n",
    "    plt.plot(np.squeeze(costs))\n",
    "    plt.ylabel('cost')\n",
    "    plt.xlabel('iterations (per tens)')\n",
    "    plt.title(\"Learning rate =\" + str(learning_rate))\n",
    "    plt.show()\n",
    "    \n",
    "    return parameters"
   ]
  },
  {
   "cell_type": "code",
   "execution_count": 287,
   "metadata": {},
   "outputs": [],
   "source": [
    "from sklearn import model_selection\n",
    "from sklearn import preprocessing\n",
    "Xtr, Xte, ytr, yte = model_selection.train_test_split(X_clf.T, y_clf.T, \n",
    "                                                      test_size=0.3)\n",
    "\n",
    "Xtr = preprocessing.scale(Xtr)\n",
    "\n",
    "Xtr, Xte, ytr, yte =Xtr.T, Xte.T, ytr.T, yte.T"
   ]
  },
  {
   "cell_type": "code",
   "execution_count": 288,
   "metadata": {},
   "outputs": [],
   "source": [
    "def predict_L(X,Y,parameters):\n",
    "    A,caches=L_model_forward(X, parameters)\n",
    "    A=np.where(A>=0.5,1,0)\n",
    "    \n",
    "    return 1-np.mean(abs(Y-A))"
   ]
  },
  {
   "cell_type": "code",
   "execution_count": 289,
   "metadata": {},
   "outputs": [],
   "source": [
    "layer_dims=[4,5,6,4,3,5,4,5,6,1]"
   ]
  },
  {
   "cell_type": "code",
   "execution_count": 290,
   "metadata": {},
   "outputs": [
    {
     "name": "stdout",
     "output_type": "stream",
     "text": [
      "Cost after iteration 0: 0.693147\n",
      "Cost after iteration 100: 0.692102\n",
      "Cost after iteration 200: 0.691383\n",
      "Cost after iteration 300: 0.690889\n",
      "Cost after iteration 400: 0.690550\n",
      "Cost after iteration 500: 0.690317\n",
      "Cost after iteration 600: 0.690156\n",
      "Cost after iteration 700: 0.690046\n",
      "Cost after iteration 800: 0.689970\n",
      "Cost after iteration 900: 0.689918\n",
      "Cost after iteration 1000: 0.689882\n",
      "Cost after iteration 1100: 0.689857\n",
      "Cost after iteration 1200: 0.689840\n",
      "Cost after iteration 1300: 0.689828\n",
      "Cost after iteration 1400: 0.689820\n",
      "Cost after iteration 1500: 0.689814\n",
      "Cost after iteration 1600: 0.689811\n",
      "Cost after iteration 1700: 0.689808\n",
      "Cost after iteration 1800: 0.689806\n",
      "Cost after iteration 1900: 0.689805\n",
      "Cost after iteration 2000: 0.689804\n",
      "Cost after iteration 2100: 0.689803\n",
      "Cost after iteration 2200: 0.689803\n",
      "Cost after iteration 2300: 0.689803\n",
      "Cost after iteration 2400: 0.689803\n",
      "Cost after iteration 2500: 0.689802\n",
      "Cost after iteration 2600: 0.689802\n",
      "Cost after iteration 2700: 0.689802\n",
      "Cost after iteration 2800: 0.689802\n",
      "Cost after iteration 2900: 0.689802\n",
      "Cost after iteration 3000: 0.689802\n",
      "Cost after iteration 3100: 0.689802\n",
      "Cost after iteration 3200: 0.689802\n",
      "Cost after iteration 3300: 0.689802\n",
      "Cost after iteration 3400: 0.689802\n"
     ]
    },
    {
     "data": {
      "image/png": "[encoded data removed]",
      "text/plain": [
       "<matplotlib.figure.Figure at 0x10a8a5d30>"
      ]
     },
     "metadata": {},
     "output_type": "display_data"
    }
   ],
   "source": [
    "parameters = L_layer_model(Xtr, ytr,layers_dims,learning_rate=0.0075, num_iterations = 3500, print_cost = True)"
   ]
  },
  {
   "cell_type": "code",
   "execution_count": 291,
   "metadata": {},
   "outputs": [
    {
     "data": {
      "text/plain": [
       "0.5408734602463605"
      ]
     },
     "execution_count": 291,
     "metadata": {},
     "output_type": "execute_result"
    }
   ],
   "source": [
    "predict_L(Xtr,ytr,parameters)"
   ]
  },
  {
   "cell_type": "code",
   "execution_count": 292,
   "metadata": {},
   "outputs": [
    {
     "data": {
      "text/plain": [
       "0.46354166666666663"
      ]
     },
     "execution_count": 292,
     "metadata": {},
     "output_type": "execute_result"
    }
   ],
   "source": [
    "Xte=preprocessing.scale(Xte)\n",
    "predict_L(Xte,yte,parameters)"
   ]
  },
  {
   "cell_type": "markdown",
   "metadata": {},
   "source": [
    "## Creating a matrix of depth k"
   ]
  },
  {
   "cell_type": "code",
   "execution_count": 293,
   "metadata": {},
   "outputs": [],
   "source": [
    "#################\n",
    "stock = \"BNP.PA\"#\n",
    "#################\n",
    "from datetime import datetime\n",
    "\n",
    "dataFrame = pd.read_csv(\"/Users/serrano/Documents/cours_centrale/projet_inno/git/projets8/script_macro/\"+stock+\".csv\", sep=\",\")\n",
    "# les valeurs les plus recentes en haut\n",
    "data = np.array(dataFrame.values)[::-1]\n",
    "initialData = np.array(dataFrame.values)[::-1]\n",
    "\n",
    "initialHeader= list(dataFrame)\n",
    "header = list(dataFrame)\n",
    "\n",
    "\n",
    "# ici data ne comporte que les donnees series de prix"
   ]
  },
  {
   "cell_type": "code",
   "execution_count": 294,
   "metadata": {},
   "outputs": [],
   "source": [
    "# inflation\n",
    "inflation = pd.read_excel(\"/Users/serrano/Documents/cours_centrale/projet_inno/git/projets8/script_macro/\"+\"Inflation.xlsx\")\n",
    "temp = np.array(inflation.values)\n",
    "\n",
    "inflation_values = []\n",
    "for i in range(len(temp)):\n",
    "    if len(str(int(temp[i][1]))) < 2:\n",
    "        date = datetime.strptime(str(int(temp[i][0]))+\"-0\"+str(int(temp[i][1])), '%Y-%m')\n",
    "    else:\n",
    "        date = datetime.strptime(str(int(temp[i][0]))+\"-\"+str(int(temp[i][1])), '%Y-%m')\n",
    "    value = float(int(1000*temp[i][2]))/1000\n",
    "    inflation_values.append([date,value])\n"
   ]
  },
  {
   "cell_type": "code",
   "execution_count": 295,
   "metadata": {},
   "outputs": [],
   "source": [
    "# consumer sentiment\n",
    "consumer_sentiment = pd.read_excel(\"/Users/serrano/Documents/cours_centrale/projet_inno/git/projets8/script_macro/\"+\"the index of the consumer sentiment.xlsx\")\n",
    "temp = np.array(consumer_sentiment.values)\n",
    "\n",
    "consumer_sentiment_values = []\n",
    "for i in range(len(temp)):\n",
    "    if len(str(int(temp[i][1]))) < 2:\n",
    "        date = datetime.strptime(str(int(temp[i][0]))+\"-0\"+str(int(temp[i][1])), '%m-%Y')\n",
    "    else:\n",
    "        date = datetime.strptime(str(int(temp[i][0]))+\"-\"+str(int(temp[i][1])), '%m-%Y')\n",
    "    value = float(int(1000*temp[i][2]))/1000\n",
    "    consumer_sentiment_values.append([date,value])"
   ]
  },
  {
   "cell_type": "code",
   "execution_count": 296,
   "metadata": {},
   "outputs": [],
   "source": [
    "# interest rates fed\n",
    "interest_rates = pd.read_excel(\"/Users/serrano/Documents/cours_centrale/projet_inno/git/projets8/script_macro/\"+\"interest rates fed.xlsx\")\n",
    "interest_values = np.array(interest_rates.values)"
   ]
  },
  {
   "cell_type": "code",
   "execution_count": 297,
   "metadata": {},
   "outputs": [],
   "source": [
    "# euro-dollar rate\n",
    "euro_dollar = pd.read_excel(\"/Users/serrano/Documents/cours_centrale/projet_inno/git/projets8/script_macro/\"+\"EUR_DOLL.xlsx\")\n",
    "euro_dollar_values = np.array(euro_dollar.values)"
   ]
  },
  {
   "cell_type": "code",
   "execution_count": 298,
   "metadata": {},
   "outputs": [],
   "source": [
    "def add_to_data(data,list_usedData,parameter_values,name_parameter):\n",
    "    data_temp = []\n",
    "    \n",
    "    for i in range(len(data)):\n",
    "        vector = []\n",
    "        for k in range(len(data[i])):\n",
    "            vector.append(data[i][k])\n",
    "        date = datetime.strptime(data[i][0], '%Y-%m-%d')\n",
    "        if date < parameter_values[0][0]:\n",
    "            vector.append(parameter_values[0][1])\n",
    "        else:\n",
    "            index = 0\n",
    "            while date > parameter_values[index][0] and index < len(parameter_values)-1:\n",
    "                index += 1\n",
    "            if index < len(parameter_values)-1:\n",
    "                vector.append(parameter_values[index][1])\n",
    "                # approximation en escalier\n",
    "            else:\n",
    "                vector.append(parameter_values[-1][1])\n",
    "        data_temp.append(vector)   \n",
    "        \n",
    "    list_usedData.append(name_parameter)\n",
    "    return data_temp"
   ]
  },
  {
   "cell_type": "code",
   "execution_count": 299,
   "metadata": {},
   "outputs": [],
   "source": [
    "data = add_to_data(data,header,inflation_values, \"Inflation\")\n",
    "data = add_to_data(data,header,consumer_sentiment_values, \"Consumer sentiment\")\n",
    "data = add_to_data(data,header,interest_values, \"Interest rates fed\")\n",
    "data = add_to_data(data,header,euro_dollar_values,\"euro-dollar\" )"
   ]
  },
  {
   "cell_type": "code",
   "execution_count": 300,
   "metadata": {},
   "outputs": [
    {
     "data": {
      "text/plain": [
       "['Date',\n",
       " 'Open',\n",
       " 'High',\n",
       " 'Low',\n",
       " 'Close',\n",
       " 'Adj Close',\n",
       " 'Volume',\n",
       " 'Inflation',\n",
       " 'Consumer sentiment',\n",
       " 'Interest rates fed',\n",
       " 'euro-dollar']"
      ]
     },
     "execution_count": 300,
     "metadata": {},
     "output_type": "execute_result"
    }
   ],
   "source": [
    "header"
   ]
  },
  {
   "cell_type": "code",
   "execution_count": 301,
   "metadata": {},
   "outputs": [],
   "source": [
    "def create_data_matrix(matrix,k):\n",
    "    \"\"\" k : integer \"\"\"\n",
    "    p=matrix.shape[1]\n",
    "    n=matrix.shape[0]\n",
    "    data_matrix=np.zeros((n-k,p*k))\n",
    "    for i in range(k):\n",
    "        for j in range(n-k):\n",
    "            data_matrix[j,i*p:(i+1)*p]=matrix[j+i,:]\n",
    "    return data_matrix\n",
    "\n"
   ]
  },
  {
   "cell_type": "code",
   "execution_count": 302,
   "metadata": {},
   "outputs": [
    {
     "name": "stdout",
     "output_type": "stream",
     "text": [
      "[[63.740002 64.279999 63.130001 ... 95.7       1.41      1.2263  ]\n",
      " [64.07     64.660004 62.25     ... 95.7       1.41      1.2273  ]\n",
      " [64.589996 65.709999 63.939999 ... 95.7       1.41      1.2252  ]\n",
      " ...\n",
      " [46.560001 47.215    46.005001 ... 78.6       0.14      1.3325  ]\n",
      " [46.299999 47.5      46.200001 ... 78.6       0.14      1.3327  ]\n",
      " [46.029999 46.119999 45.279999 ... 78.6       0.14      1.348   ]]\n"
     ]
    },
    {
     "data": {
      "text/plain": [
       "(1278, 8)"
      ]
     },
     "execution_count": 302,
     "metadata": {},
     "output_type": "execute_result"
    }
   ],
   "source": [
    "dataframe=pd.DataFrame(data,columns=header)\n",
    "data = np.array(dataframe.drop(['Date','Close','Adj Close'], axis=1).values)\n",
    "print(data)\n",
    "data.shape"
   ]
  },
  {
   "cell_type": "code",
   "execution_count": 303,
   "metadata": {},
   "outputs": [
    {
     "data": {
      "text/plain": [
       "(1276, 8)"
      ]
     },
     "execution_count": 303,
     "metadata": {},
     "output_type": "execute_result"
    }
   ],
   "source": [
    "k=1\n",
    "new_data=create_data_matrix(data,k)\n",
    "new_data=new_data[1:,:]\n",
    "new_data.shape"
   ]
  },
  {
   "cell_type": "code",
   "execution_count": 304,
   "metadata": {},
   "outputs": [
    {
     "name": "stdout",
     "output_type": "stream",
     "text": [
      "(1276, 1)\n",
      "(1276, 1)\n"
     ]
    }
   ],
   "source": [
    "y=np.array(dataframe['Close'].values)\n",
    "new_y=np.zeros((len(y)-(k+1),1))\n",
    "for i in range(len(y)-(k+1)):\n",
    "    if y[i]>y[i+1]:  \n",
    "        new_y[i,0]=1\n",
    "new_y=np.array(new_y)\n",
    "print(new_y.shape)\n",
    "np.squeeze(new_y)\n",
    "print(new_y.shape)"
   ]
  },
  {
   "cell_type": "code",
   "execution_count": 305,
   "metadata": {},
   "outputs": [],
   "source": [
    "layer_dims=[8,1]"
   ]
  },
  {
   "cell_type": "code",
   "execution_count": 306,
   "metadata": {},
   "outputs": [],
   "source": [
    "from sklearn import model_selection\n",
    "Xtr, Xte, ytr, yte = model_selection.train_test_split(new_data, new_y, \n",
    "                                                      test_size=0.3)\n",
    "\n",
    "from sklearn.preprocessing import StandardScaler  \n",
    "scaler = StandardScaler()  \n",
    "# Don't cheat - fit only on training data\n",
    "scaler.fit(Xtr)  \n",
    "Xtr = scaler.transform(Xtr)  \n",
    "# apply same transformation to test data\n",
    "Xte= scaler.transform(Xte)\n",
    "\n",
    "Xtr, Xte, ytr, yte =Xtr.T, Xte.T, ytr.T, yte.T"
   ]
  },
  {
   "cell_type": "code",
   "execution_count": 307,
   "metadata": {},
   "outputs": [
    {
     "name": "stdout",
     "output_type": "stream",
     "text": [
      "Cost after iteration 0: 0.692702\n",
      "Cost after iteration 100: 0.692381\n",
      "Cost after iteration 200: 0.692117\n",
      "Cost after iteration 300: 0.691897\n",
      "Cost after iteration 400: 0.691714\n",
      "Cost after iteration 500: 0.691560\n",
      "Cost after iteration 600: 0.691429\n",
      "Cost after iteration 700: 0.691318\n",
      "Cost after iteration 800: 0.691223\n",
      "Cost after iteration 900: 0.691140\n",
      "Cost after iteration 1000: 0.691068\n",
      "Cost after iteration 1100: 0.691005\n",
      "Cost after iteration 1200: 0.690949\n",
      "Cost after iteration 1300: 0.690899\n",
      "Cost after iteration 1400: 0.690854\n",
      "Cost after iteration 1500: 0.690814\n",
      "Cost after iteration 1600: 0.690777\n",
      "Cost after iteration 1700: 0.690744\n",
      "Cost after iteration 1800: 0.690713\n",
      "Cost after iteration 1900: 0.690685\n",
      "Cost after iteration 2000: 0.690659\n",
      "Cost after iteration 2100: 0.690635\n",
      "Cost after iteration 2200: 0.690612\n",
      "Cost after iteration 2300: 0.690591\n",
      "Cost after iteration 2400: 0.690572\n",
      "Cost after iteration 2500: 0.690554\n",
      "Cost after iteration 2600: 0.690536\n",
      "Cost after iteration 2700: 0.690520\n",
      "Cost after iteration 2800: 0.690505\n",
      "Cost after iteration 2900: 0.690491\n",
      "Cost after iteration 3000: 0.690477\n",
      "Cost after iteration 3100: 0.690464\n",
      "Cost after iteration 3200: 0.690452\n",
      "Cost after iteration 3300: 0.690441\n",
      "Cost after iteration 3400: 0.690430\n"
     ]
    },
    {
     "data": {
      "image/png": "[encoded data removed]",
      "text/plain": [
       "<matplotlib.figure.Figure at 0x1a12ca04e0>"
      ]
     },
     "metadata": {},
     "output_type": "display_data"
    }
   ],
   "source": [
    "parameters = L_layer_model(Xtr, ytr,layers_dims,learning_rate=0.001, num_iterations = 3500, print_cost = True)"
   ]
  },
  {
   "cell_type": "markdown",
   "metadata": {},
   "source": [
    "## Using the built-up fonctions from sklearn : MLPClassifier"
   ]
  },
  {
   "cell_type": "code",
   "execution_count": 308,
   "metadata": {},
   "outputs": [],
   "source": [
    "from sklearn.neural_network import MLPClassifier"
   ]
  },
  {
   "cell_type": "code",
   "execution_count": 309,
   "metadata": {},
   "outputs": [
    {
     "name": "stdout",
     "output_type": "stream",
     "text": [
      "yte : (383,)\n"
     ]
    }
   ],
   "source": [
    "from sklearn import model_selection\n",
    "alpha=10.0 ** -np.arange(1, 7)\n",
    "param_grid = {'alpha': alpha}\n",
    "\n",
    "ytr = ytr.reshape((-1,)) \n",
    "yte = yte.reshape((-1,))\n",
    "print(\"yte : \"+str(yte.shape))\n"
   ]
  },
  {
   "cell_type": "code",
   "execution_count": 310,
   "metadata": {},
   "outputs": [],
   "source": [
    "clf = MLPClassifier(solver='adam',activation=\"relu\", alpha=0, learning_rate=\"constant\",\n",
    "...                     hidden_layer_sizes=(100,50,30,20),max_iter=5000,random_state=1)"
   ]
  },
  {
   "cell_type": "code",
   "execution_count": 311,
   "metadata": {},
   "outputs": [
    {
     "data": {
      "text/plain": [
       "MLPClassifier(activation='relu', alpha=0, batch_size='auto', beta_1=0.9,\n",
       "       beta_2=0.999, early_stopping=False, epsilon=1e-08,\n",
       "       hidden_layer_sizes=(100, 50, 30, 20), learning_rate='constant',\n",
       "       learning_rate_init=0.001, max_iter=5000, momentum=0.9,\n",
       "       nesterovs_momentum=True, power_t=0.5, random_state=1, shuffle=True,\n",
       "       solver='adam', tol=0.0001, validation_fraction=0.1, verbose=False,\n",
       "       warm_start=False)"
      ]
     },
     "execution_count": 311,
     "metadata": {},
     "output_type": "execute_result"
    }
   ],
   "source": [
    "clf.fit(Xtr.T,ytr.T)"
   ]
  },
  {
   "cell_type": "code",
   "execution_count": 312,
   "metadata": {},
   "outputs": [
    {
     "name": "stdout",
     "output_type": "stream",
     "text": [
      "Accuracy: 0.517\n"
     ]
    }
   ],
   "source": [
    "from sklearn import metrics\n",
    "y_pred=clf.predict(Xte.T)\n",
    "print(\"Accuracy: %.3f\" % metrics.accuracy_score(yte.T, y_pred))"
   ]
  },
  {
   "cell_type": "markdown",
   "metadata": {},
   "source": [
    "## Gridsearch"
   ]
  },
  {
   "cell_type": "code",
   "execution_count": 313,
   "metadata": {},
   "outputs": [],
   "source": [
    "\n",
    "from sklearn import model_selection\n",
    "alpha=10.0 ** -np.arange(1, 7)\n",
    "param_grid = {'alpha': alpha}"
   ]
  },
  {
   "cell_type": "code",
   "execution_count": 314,
   "metadata": {},
   "outputs": [
    {
     "name": "stderr",
     "output_type": "stream",
     "text": [
      "/Users/serrano/anaconda3/lib/python3.6/site-packages/sklearn/neural_network/multilayer_perceptron.py:566: UserWarning: Training interrupted by user.\n",
      "  warnings.warn(\"Training interrupted by user.\")\n"
     ]
    },
    {
     "data": {
      "text/plain": [
       "GridSearchCV(cv=3, error_score='raise',\n",
       "       estimator=MLPClassifier(activation='relu', alpha=0.0001, batch_size='auto', beta_1=0.9,\n",
       "       beta_2=0.999, early_stopping=False, epsilon=1e-08,\n",
       "       hidden_layer_sizes=(100, 100, 100, 100, 100, 100, 100, 100, 100, 100, 100, 100, 100, 100, 2),\n",
       "       learning_rate='invscaling', learning_rate_init...le=True, solver='adam', tol=0.0001, validation_fraction=0.1,\n",
       "       verbose=False, warm_start=False),\n",
       "       fit_params=None, iid=True, n_jobs=1,\n",
       "       param_grid={'alpha': array([1.e-01, 1.e-02, 1.e-03, 1.e-04, 1.e-05, 1.e-06])},\n",
       "       pre_dispatch='2*n_jobs', refit=True, return_train_score='warn',\n",
       "       scoring=None, verbose=0)"
      ]
     },
     "execution_count": 314,
     "metadata": {},
     "output_type": "execute_result"
    }
   ],
   "source": [
    "clf_1= MLPClassifier(solver='adam', learning_rate=\"invscaling\",\n",
    "...                     hidden_layer_sizes=(100,100,100,100,100,100,100,100,100,100,100,100,100,100,2),max_iter=3500,random_state=1)\n",
    "clf_opt=model_selection.GridSearchCV(clf_1,param_grid,cv=3)\n",
    "clf_opt.fit(Xtr.T,ytr.T)"
   ]
  },
  {
   "cell_type": "code",
   "execution_count": 315,
   "metadata": {},
   "outputs": [
    {
     "name": "stdout",
     "output_type": "stream",
     "text": [
      "MLPClassifier(activation='relu', alpha=0.1, batch_size='auto', beta_1=0.9,\n",
      "       beta_2=0.999, early_stopping=False, epsilon=1e-08,\n",
      "       hidden_layer_sizes=(100, 100, 100, 100, 100, 100, 100, 100, 100, 100, 100, 100, 100, 100, 2),\n",
      "       learning_rate='invscaling', learning_rate_init=0.001, max_iter=3500,\n",
      "       momentum=0.9, nesterovs_momentum=True, power_t=0.5, random_state=1,\n",
      "       shuffle=True, solver='adam', tol=0.0001, validation_fraction=0.1,\n",
      "       verbose=False, warm_start=False)\n"
     ]
    }
   ],
   "source": [
    "print(clf_opt.best_estimator_)"
   ]
  },
  {
   "cell_type": "code",
   "execution_count": 316,
   "metadata": {},
   "outputs": [],
   "source": [
    "ypred=clf_opt.best_estimator_.predict(Xte.T)"
   ]
  },
  {
   "cell_type": "code",
   "execution_count": 317,
   "metadata": {},
   "outputs": [
    {
     "name": "stdout",
     "output_type": "stream",
     "text": [
      "Accuracy: 0.517\n"
     ]
    }
   ],
   "source": [
    "print(\"Accuracy: %.3f\" % metrics.accuracy_score(yte.T, y_pred))"
   ]
  },
  {
   "cell_type": "code",
   "execution_count": 318,
   "metadata": {},
   "outputs": [],
   "source": [
    "MLPClassifier?"
   ]
  },
  {
   "cell_type": "markdown",
   "metadata": {},
   "source": [
    "## Transformation des cours des prix en rapport "
   ]
  },
  {
   "cell_type": "code",
   "execution_count": 320,
   "metadata": {},
   "outputs": [],
   "source": [
    "historic_price = pd.read_csv(\"/Users/serrano/Documents/cours_centrale/projet_inno/git/projets8/scripts_Python/data/historic_price/\"+'BNP'+\".PA.csv\", sep=\",\")\n",
    "X_clf = np.array(historic_price.drop(['Date','Adj close'], axis=1).values)\n",
    "y = np.array(historic_price['Close'].values)\n"
   ]
  },
  {
   "cell_type": "code",
   "execution_count": 321,
   "metadata": {},
   "outputs": [],
   "source": [
    "def create_zero_one(y):\n",
    "    y=np.array(y)\n",
    "    n=y.shape[0]\n",
    "    y_clf=np.zeros(n-2)\n",
    "    for i in range(n-2):\n",
    "        if y[i]>=y[i+1]:\n",
    "            y_clf[i]=1\n",
    "    return y_clf\n"
   ]
  },
  {
   "cell_type": "code",
   "execution_count": 322,
   "metadata": {},
   "outputs": [
    {
     "data": {
      "text/plain": [
       "array([0., 1., 0., 0., 1., 0., 1., 0., 1.])"
      ]
     },
     "execution_count": 322,
     "metadata": {},
     "output_type": "execute_result"
    }
   ],
   "source": [
    "create_zero_one([2,3,2,4,5,2,5,3,4,3,2])"
   ]
  },
  {
   "cell_type": "code",
   "execution_count": 323,
   "metadata": {},
   "outputs": [],
   "source": [
    "def create_ratio_matrix(matrix):\n",
    "    \"\"\" k : integer \"\"\"\n",
    "    p=matrix.shape[1]\n",
    "    n=matrix.shape[0]\n",
    "    data_matrix=np.zeros((n-1,p))\n",
    "    for i in range(n-1):\n",
    "        data_matrix[i,:]=matrix[i,:]/matrix[i+1,:] #Xi -> jour i et Xi+1 -> jour i-1\n",
    "        \n",
    "    data_matrix=data_matrix[1:n-1,:]\n",
    "    return data_matrix"
   ]
  },
  {
   "cell_type": "code",
   "execution_count": 324,
   "metadata": {},
   "outputs": [
    {
     "name": "stdout",
     "output_type": "stream",
     "text": [
      "(1276, 5)\n",
      "(1276,)\n"
     ]
    }
   ],
   "source": [
    "data_ratio=np.log(create_ratio_matrix(X_clf))\n",
    "y_clf=create_zero_one(y)\n",
    "print(data_ratio.shape)\n",
    "print(y_clf.shape)"
   ]
  },
  {
   "cell_type": "code",
   "execution_count": 211,
   "metadata": {},
   "outputs": [],
   "source": [
    "clf = MLPClassifier(solver='adam',activation=\"relu\", alpha=0.01, learning_rate=\"constant\",\n",
    "...                     hidden_layer_sizes=(100,90,80,70,50,40,30,20,10),max_iter=5000,random_state=1)"
   ]
  },
  {
   "cell_type": "code",
   "execution_count": 212,
   "metadata": {},
   "outputs": [],
   "source": [
    "from sklearn import model_selection\n",
    "Xtr, Xte, ytr, yte = model_selection.train_test_split(data_ratio, y_clf, \n",
    "                                                      test_size=0.3)\n",
    "\n",
    "from sklearn.preprocessing import StandardScaler  \n",
    "scaler = StandardScaler()  \n",
    "# Don't cheat - fit only on training data\n",
    "scaler.fit(Xtr)  \n",
    "Xtr = scaler.transform(Xtr)  \n",
    "# apply same transformation to test data\n",
    "Xte= scaler.transform(Xte)"
   ]
  },
  {
   "cell_type": "code",
   "execution_count": 213,
   "metadata": {},
   "outputs": [
    {
     "data": {
      "text/plain": [
       "MLPClassifier(activation='relu', alpha=0.01, batch_size='auto', beta_1=0.9,\n",
       "       beta_2=0.999, early_stopping=False, epsilon=1e-08,\n",
       "       hidden_layer_sizes=(100, 90, 80, 70, 50, 40, 30, 20, 10),\n",
       "       learning_rate='constant', learning_rate_init=0.001, max_iter=5000,\n",
       "       momentum=0.9, nesterovs_momentum=True, power_t=0.5, random_state=1,\n",
       "       shuffle=True, solver='adam', tol=0.0001, validation_fraction=0.1,\n",
       "       verbose=False, warm_start=False)"
      ]
     },
     "execution_count": 213,
     "metadata": {},
     "output_type": "execute_result"
    }
   ],
   "source": [
    "clf.fit(Xtr,ytr)"
   ]
  },
  {
   "cell_type": "code",
   "execution_count": 214,
   "metadata": {},
   "outputs": [
    {
     "name": "stdout",
     "output_type": "stream",
     "text": [
      "Accuracy: 0.760\n"
     ]
    }
   ],
   "source": [
    "#test on the training set to see if it fits well the data -> estimation of the biais\n",
    "from sklearn import metrics\n",
    "y_pred=clf.predict(Xtr)\n",
    "print(\"Accuracy: %.3f\" % metrics.accuracy_score(ytr, y_pred))"
   ]
  },
  {
   "cell_type": "code",
   "execution_count": 215,
   "metadata": {},
   "outputs": [
    {
     "name": "stdout",
     "output_type": "stream",
     "text": [
      "Accuracy: 0.486\n"
     ]
    }
   ],
   "source": [
    "#test on the test set to see if it predicts well the data -> estimation of the variance\n",
    "y_pred=clf.predict(Xte)\n",
    "print(\"Accuracy: %.3f\" % metrics.accuracy_score(yte, y_pred))\n"
   ]
  },
  {
   "cell_type": "code",
   "execution_count": 216,
   "metadata": {},
   "outputs": [],
   "source": [
    "model_selection.train_test_split?"
   ]
  },
  {
   "cell_type": "code",
   "execution_count": 242,
   "metadata": {},
   "outputs": [],
   "source": [
    "## On essaye d'ajouter de la profondeur k\n",
    "k=13\n",
    "data_k=create_data_matrix(data_ratio,k)\n",
    "y_clf_k=y_clf[:len(y_clf)-k]\n",
    "\n",
    "Xtr, Xte, ytr, yte = model_selection.train_test_split(data_k, y_clf_k, \n",
    "                                                      test_size=0.3)\n",
    "\n",
    "from sklearn.preprocessing import StandardScaler  \n",
    "scaler = StandardScaler()  \n",
    "# Don't cheat - fit only on training data\n",
    "scaler.fit(Xtr)  \n",
    "Xtr = scaler.transform(Xtr)  \n",
    "# apply same transformation to test data\n",
    "Xte= scaler.transform(Xte)"
   ]
  },
  {
   "cell_type": "code",
   "execution_count": 243,
   "metadata": {},
   "outputs": [],
   "source": [
    "clf = MLPClassifier(solver='adam',activation=\"relu\", alpha=0.1, learning_rate=\"constant\",\n",
    "...                     hidden_layer_sizes=(110,100,90,80,70,50,40,30,20,10),max_iter=5000,random_state=10)"
   ]
  },
  {
   "cell_type": "code",
   "execution_count": 244,
   "metadata": {},
   "outputs": [
    {
     "data": {
      "text/plain": [
       "MLPClassifier(activation='relu', alpha=0.1, batch_size='auto', beta_1=0.9,\n",
       "       beta_2=0.999, early_stopping=False, epsilon=1e-08,\n",
       "       hidden_layer_sizes=(110, 100, 90, 80, 70, 50, 40, 30, 20, 10),\n",
       "       learning_rate='constant', learning_rate_init=0.001, max_iter=5000,\n",
       "       momentum=0.9, nesterovs_momentum=True, power_t=0.5, random_state=10,\n",
       "       shuffle=True, solver='adam', tol=0.0001, validation_fraction=0.1,\n",
       "       verbose=False, warm_start=False)"
      ]
     },
     "execution_count": 244,
     "metadata": {},
     "output_type": "execute_result"
    }
   ],
   "source": [
    "clf.fit(Xtr,ytr)"
   ]
  },
  {
   "cell_type": "code",
   "execution_count": 245,
   "metadata": {},
   "outputs": [
    {
     "name": "stdout",
     "output_type": "stream",
     "text": [
      "Accuracy: 0.966\n"
     ]
    }
   ],
   "source": [
    "#test on the training set to see if it fits well the data -> estimation of the biais\n",
    "from sklearn import metrics\n",
    "y_pred=clf.predict(Xtr)\n",
    "print(\"Accuracy: %.3f\" % metrics.accuracy_score(ytr, y_pred))"
   ]
  },
  {
   "cell_type": "code",
   "execution_count": 246,
   "metadata": {},
   "outputs": [
    {
     "name": "stdout",
     "output_type": "stream",
     "text": [
      "Accuracy: 0.517\n"
     ]
    }
   ],
   "source": [
    "#test on the test set to see if it predicts well the data -> estimation of the variance\n",
    "y_pred=clf.predict(Xte)\n",
    "print(\"Accuracy: %.3f\" % metrics.accuracy_score(yte, y_pred))\n",
    "\n"
   ]
  },
  {
   "cell_type": "code",
   "execution_count": 247,
   "metadata": {},
   "outputs": [
    {
     "name": "stdout",
     "output_type": "stream",
     "text": [
      "0.9709841628959277\n",
      "0.5143799472295515\n"
     ]
    }
   ],
   "source": [
    "###accuracy on training and testing sets n times to obtain an empirical mean\n",
    "n=20\n",
    "m_test=0\n",
    "m_train=0\n",
    "for i in range(n):\n",
    "    clf=MLPClassifier(solver='adam',activation=\"relu\", alpha=0.1, learning_rate=\"constant\",hidden_layer_sizes=(110,100,90,80,70,50,40,30,20,10),max_iter=5000, random_state=i)\n",
    "    Xtr, Xte, ytr, yte = model_selection.train_test_split(data_k, y_clf_k, \n",
    "                                                      test_size=0.3)\n",
    "    \n",
    "    scaler = StandardScaler()  \n",
    "    # Don't cheat - fit only on training data\n",
    "    scaler.fit(Xtr)  \n",
    "    Xtr = scaler.transform(Xtr)  \n",
    "    # apply same transformation to test data\n",
    "    Xte= scaler.transform(Xte)\n",
    "    \n",
    "    clf.fit(Xtr,ytr)\n",
    "    y_pred_train=clf.predict(Xtr)\n",
    "    m_train+=metrics.accuracy_score(ytr, y_pred_train)\n",
    "    \n",
    "    y_pred_test=clf.predict(Xte)\n",
    "    m_test+=metrics.accuracy_score(yte, y_pred_test)\n",
    "    \n",
    "print( m_train/n)\n",
    "print(m_test/n)"
   ]
  },
  {
   "cell_type": "code",
   "execution_count": null,
   "metadata": {},
   "outputs": [],
   "source": [
    "for k in [5,10,15,20,25,30,35,40,45]:\n",
    "    data_k=create_data_matrix(data_ratio,k)\n",
    "    y_clf_k=y_clf[:len(y_clf)-k]\n",
    "\n",
    "    n=20\n",
    "    m_test=0\n",
    "    m_train=0\n",
    "    for i in range(n):\n",
    "        clf=MLPClassifier(solver='adam',activation=\"relu\", alpha=0.1, learning_rate=\"constant\",hidden_layer_sizes=(110,100,90,80,70,50,40,30,20,10),max_iter=5000, random_state=i)\n",
    "        Xtr, Xte, ytr, yte = model_selection.train_test_split(data_k, y_clf_k, \n",
    "                                                      test_size=0.3)\n",
    "    \n",
    "        scaler = StandardScaler()  \n",
    "        # Don't cheat - fit only on training data\n",
    "        scaler.fit(Xtr)  \n",
    "        Xtr = scaler.transform(Xtr)  \n",
    "        # apply same transformation to test data\n",
    "        Xte= scaler.transform(Xte)\n",
    "\n",
    "        clf.fit(Xtr,ytr)\n",
    "        y_pred_train=clf.predict(Xtr)\n",
    "        m_train+=metrics.accuracy_score(ytr, y_pred_train)\n",
    "\n",
    "        y_pred_test=clf.predict(Xte)\n",
    "        m_test+=metrics.accuracy_score(yte, y_pred_test)\n",
    "    print(k+\":\")\n",
    "    print( m_train/n)\n",
    "    print(m_test/n)\n",
    "    print(\"\\n\")"
   ]
  },
  {
   "cell_type": "markdown",
   "metadata": {},
   "source": [
    "## Trying deep Learning with all the stocks to predict only one (not finished)"
   ]
  },
  {
   "cell_type": "code",
   "execution_count": 1,
   "metadata": {},
   "outputs": [],
   "source": [
    "stock_names=[\"AC\",\"ACA\",\"AI\",\"AIR\",\"ATO\",\"BN\",\"BNP\",\"CA\",\"CAP\",\"DG\",\"EI\",\"EN\",\"ENGI\",\"FP\",\"FR\",\"GLE\",\"KER\",\"LHN\",\"LR\",\"MC\",\"ML\",\"OR\",\"ORA\",\"SAN\",\"SGO\",\"SU\",\"SW\",\"UG\",\"VIE\",\"VIV\"]"
   ]
  },
  {
   "cell_type": "code",
   "execution_count": 41,
   "metadata": {},
   "outputs": [
    {
     "ename": "NameError",
     "evalue": "name 'stock_names' is not defined",
     "output_type": "error",
     "traceback": [
      "\u001b[0;31m---------------------------------------------------------------------------\u001b[0m",
      "\u001b[0;31mNameError\u001b[0m                                 Traceback (most recent call last)",
      "\u001b[0;32m<ipython-input-41-c91c23c6d096>\u001b[0m in \u001b[0;36m<module>\u001b[0;34m()\u001b[0m\n\u001b[1;32m      1\u001b[0m \u001b[0mX_clf\u001b[0m\u001b[0;34m=\u001b[0m \u001b[0;34m[\u001b[0m\u001b[0;34m]\u001b[0m\u001b[0;34m\u001b[0m\u001b[0m\n\u001b[1;32m      2\u001b[0m \u001b[0my_list\u001b[0m\u001b[0;34m=\u001b[0m\u001b[0;34m[\u001b[0m\u001b[0;34m]\u001b[0m\u001b[0;34m\u001b[0m\u001b[0m\n\u001b[0;32m----> 3\u001b[0;31m \u001b[0;32mfor\u001b[0m \u001b[0mstock\u001b[0m \u001b[0;32min\u001b[0m \u001b[0mstock_names\u001b[0m\u001b[0;34m:\u001b[0m\u001b[0;34m\u001b[0m\u001b[0m\n\u001b[0m\u001b[1;32m      4\u001b[0m     \u001b[0mhistoric_price\u001b[0m \u001b[0;34m=\u001b[0m \u001b[0mpd\u001b[0m\u001b[0;34m.\u001b[0m\u001b[0mread_csv\u001b[0m\u001b[0;34m(\u001b[0m\u001b[0;34m\"/Users/serrano/Documents/cours_centrale/projet_inno/git/projets8/scripts_Python/data/historic_price/\"\u001b[0m\u001b[0;34m+\u001b[0m\u001b[0mstock\u001b[0m\u001b[0;34m+\u001b[0m\u001b[0;34m\".PA.csv\"\u001b[0m\u001b[0;34m,\u001b[0m \u001b[0msep\u001b[0m\u001b[0;34m=\u001b[0m\u001b[0;34m\",\"\u001b[0m\u001b[0;34m)\u001b[0m\u001b[0;34m\u001b[0m\u001b[0m\n\u001b[1;32m      5\u001b[0m     \u001b[0mX_clf\u001b[0m\u001b[0;34m.\u001b[0m\u001b[0mappend\u001b[0m\u001b[0;34m(\u001b[0m\u001b[0mnp\u001b[0m\u001b[0;34m.\u001b[0m\u001b[0marray\u001b[0m\u001b[0;34m(\u001b[0m\u001b[0mhistoric_price\u001b[0m\u001b[0;34m.\u001b[0m\u001b[0mdrop\u001b[0m\u001b[0;34m(\u001b[0m\u001b[0;34m[\u001b[0m\u001b[0;34m'Date'\u001b[0m\u001b[0;34m,\u001b[0m\u001b[0;34m'Adj close'\u001b[0m\u001b[0;34m]\u001b[0m\u001b[0;34m,\u001b[0m \u001b[0maxis\u001b[0m\u001b[0;34m=\u001b[0m\u001b[0;36m1\u001b[0m\u001b[0;34m)\u001b[0m\u001b[0;34m.\u001b[0m\u001b[0mvalues\u001b[0m\u001b[0;34m)\u001b[0m\u001b[0;34m)\u001b[0m\u001b[0;34m\u001b[0m\u001b[0m\n",
      "\u001b[0;31mNameError\u001b[0m: name 'stock_names' is not defined"
     ]
    }
   ],
   "source": [
    "X_clf= []\n",
    "y_list=[]\n",
    "for stock in stock_names:\n",
    "    historic_price = pd.read_csv(\"/Users/serrano/Documents/cours_centrale/projet_inno/git/projets8/scripts_Python/data/historic_price/\"+stock+\".PA.csv\", sep=\",\")\n",
    "    X_clf.append(np.array(historic_price.drop(['Date','Close','Adj close'], axis=1).values))\n",
    "    y_list.append(np.array(historic_price['Close'].values))\n",
    "##Transformation en rapport\n",
    "for i in range(len(X_clf)):\n",
    "    X_clf[i]=create_ratio_matrix(X_clf[i])\n",
    "    y_list[i]=create_zero_one(y_list[i])\n",
    "X_clf=np.array(X_clf)\n",
    "print(y_list[1].shape)"
   ]
  },
  {
   "cell_type": "code",
   "execution_count": 42,
   "metadata": {},
   "outputs": [
    {
     "ename": "AttributeError",
     "evalue": "'list' object has no attribute 'shape'",
     "output_type": "error",
     "traceback": [
      "\u001b[0;31m---------------------------------------------------------------------------\u001b[0m",
      "\u001b[0;31mAttributeError\u001b[0m                            Traceback (most recent call last)",
      "\u001b[0;32m<ipython-input-42-757091b6900b>\u001b[0m in \u001b[0;36m<module>\u001b[0;34m()\u001b[0m\n\u001b[0;32m----> 1\u001b[0;31m \u001b[0mprint\u001b[0m\u001b[0;34m(\u001b[0m\u001b[0mX_clf\u001b[0m\u001b[0;34m.\u001b[0m\u001b[0mshape\u001b[0m\u001b[0;34m[\u001b[0m\u001b[0;36m0\u001b[0m\u001b[0;34m]\u001b[0m\u001b[0;34m)\u001b[0m\u001b[0;34m\u001b[0m\u001b[0m\n\u001b[0m\u001b[1;32m      2\u001b[0m \u001b[0;32mfor\u001b[0m \u001b[0mi\u001b[0m \u001b[0;32min\u001b[0m \u001b[0mrange\u001b[0m\u001b[0;34m(\u001b[0m\u001b[0mX_clf\u001b[0m\u001b[0;34m.\u001b[0m\u001b[0mshape\u001b[0m\u001b[0;34m[\u001b[0m\u001b[0;36m0\u001b[0m\u001b[0;34m]\u001b[0m\u001b[0;34m)\u001b[0m\u001b[0;34m:\u001b[0m\u001b[0;34m\u001b[0m\u001b[0m\n\u001b[1;32m      3\u001b[0m     \u001b[0mprint\u001b[0m\u001b[0;34m(\u001b[0m\u001b[0mX_clf\u001b[0m\u001b[0;34m[\u001b[0m\u001b[0mi\u001b[0m\u001b[0;34m]\u001b[0m\u001b[0;34m.\u001b[0m\u001b[0mshape\u001b[0m\u001b[0;34m)\u001b[0m\u001b[0;34m\u001b[0m\u001b[0m\n",
      "\u001b[0;31mAttributeError\u001b[0m: 'list' object has no attribute 'shape'"
     ]
    }
   ],
   "source": [
    "print(X_clf.shape[0])\n",
    "for i in range(X_clf.shape[0]):\n",
    "    print(X_clf[i].shape)"
   ]
  },
  {
   "cell_type": "code",
   "execution_count": 43,
   "metadata": {},
   "outputs": [
    {
     "ename": "ValueError",
     "evalue": "need at least one array to concatenate",
     "output_type": "error",
     "traceback": [
      "\u001b[0;31m---------------------------------------------------------------------------\u001b[0m",
      "\u001b[0;31mValueError\u001b[0m                                Traceback (most recent call last)",
      "\u001b[0;32m<ipython-input-43-f815035dbdcd>\u001b[0m in \u001b[0;36m<module>\u001b[0;34m()\u001b[0m\n\u001b[0;32m----> 1\u001b[0;31m \u001b[0mdata_matrix\u001b[0m\u001b[0;34m=\u001b[0m\u001b[0mnp\u001b[0m\u001b[0;34m.\u001b[0m\u001b[0mconcatenate\u001b[0m\u001b[0;34m(\u001b[0m\u001b[0mX_clf\u001b[0m\u001b[0;34m,\u001b[0m \u001b[0maxis\u001b[0m\u001b[0;34m=\u001b[0m\u001b[0;36m1\u001b[0m\u001b[0;34m)\u001b[0m\u001b[0;34m\u001b[0m\u001b[0m\n\u001b[0m\u001b[1;32m      2\u001b[0m \u001b[0mprint\u001b[0m\u001b[0;34m(\u001b[0m\u001b[0mdata_matrix\u001b[0m\u001b[0;34m.\u001b[0m\u001b[0mshape\u001b[0m\u001b[0;34m)\u001b[0m\u001b[0;34m\u001b[0m\u001b[0m\n",
      "\u001b[0;31mValueError\u001b[0m: need at least one array to concatenate"
     ]
    }
   ],
   "source": [
    "data_matrix=np.concatenate(X_clf, axis=1) \n",
    "print(data_matrix.shape)"
   ]
  },
  {
   "cell_type": "code",
   "execution_count": null,
   "metadata": {},
   "outputs": [],
   "source": []
  },
  {
   "cell_type": "code",
   "execution_count": null,
   "metadata": {},
   "outputs": [],
   "source": []
  },
  {
   "cell_type": "code",
   "execution_count": null,
   "metadata": {},
   "outputs": [],
   "source": []
  }
 ],
 "metadata": {
  "kernelspec": {
   "display_name": "Python 3",
   "language": "python",
   "name": "python3"
  },
  "language_info": {
   "codemirror_mode": {
    "name": "ipython",
    "version": 3
   },
   "file_extension": ".py",
   "mimetype": "text/x-python",
   "name": "python",
   "nbconvert_exporter": "python",
   "pygments_lexer": "ipython3",
   "version": "3.6.4"
  }
 },
 "nbformat": 4,
 "nbformat_minor": 2
}
