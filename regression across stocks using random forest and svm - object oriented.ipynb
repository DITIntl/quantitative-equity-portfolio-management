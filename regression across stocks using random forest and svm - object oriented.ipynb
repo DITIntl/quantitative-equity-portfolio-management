{
 "cells": [
  {
   "cell_type": "code",
   "execution_count": 118,
   "metadata": {},
   "outputs": [],
   "source": [
    "import numpy as np\n",
    "import pandas as pd\n",
    "import matplotlib.pyplot as plt\n",
    "from datetime import datetime\n",
    "import random\n",
    "from sklearn import model_selection, preprocessing, svm, metrics\n",
    "from sklearn.ensemble import RandomForestRegressor\n",
    "from sklearn.model_selection import GridSearchCV\n",
    "\n",
    "\n",
    "%matplotlib inline"
   ]
  },
  {
   "cell_type": "code",
   "execution_count": null,
   "metadata": {},
   "outputs": [],
   "source": []
  },
  {
   "cell_type": "code",
   "execution_count": 119,
   "metadata": {},
   "outputs": [],
   "source": [
    "class Open_csv:\n",
    "    \n",
    "    def __init__(self):\n",
    "        pass\n",
    "    \n",
    "    def open(self,path_to_file):\n",
    "        data = np.asarray(pd.read_csv(path_to_file, delimiter=\",\").values)\n",
    "        return data"
   ]
  },
  {
   "cell_type": "code",
   "execution_count": null,
   "metadata": {},
   "outputs": [],
   "source": []
  },
  {
   "cell_type": "code",
   "execution_count": 46,
   "metadata": {},
   "outputs": [],
   "source": [
    "def f_1(vector):\n",
    "    return (vector[2]-vector[3])/(vector[1]+vector[4]) # (high-low)/(open-close)"
   ]
  },
  {
   "cell_type": "code",
   "execution_count": 120,
   "metadata": {},
   "outputs": [],
   "source": [
    "# garman-klass\n",
    "def f(vector):\n",
    "    # vector[1] = open ; vector[2] = high ; vector[3] = low ; vector[4] = close\n",
    "    return 12*(np.log(vector[2]/vector[3])**2)-(2*np.log(2)-1)*(np.log(vector[4]/vector[1])**2)"
   ]
  },
  {
   "cell_type": "code",
   "execution_count": 136,
   "metadata": {},
   "outputs": [],
   "source": [
    "# parkinson\n",
    "def f(vector):\n",
    "    # vector[1] = open ; vector[2] = high ; vector[3] = low ; vector[4] = close\n",
    "    return np.log(vector[2]/vector[3])"
   ]
  },
  {
   "cell_type": "code",
   "execution_count": 137,
   "metadata": {},
   "outputs": [],
   "source": [
    "class Preprocess_data:\n",
    "    \n",
    "    def __init__(self):\n",
    "        self.function = f_1\n",
    "        self.open_csv = Open_csv()\n",
    "        self.data = None\n",
    "        self.returns = []\n",
    "        self.log_returns = True\n",
    "        self.depth = 5\n",
    "        self.X_ = None\n",
    "        self.X_all = None\n",
    "        self.y_ = None\n",
    "        self.y_all = None     \n",
    "        \n",
    "    def get_data_stock(self,stock_name):\n",
    "        self.data = self.open_csv.open(\"data/\"+stock_name+\".csv\")\n",
    "    \n",
    "    def get_stock_return(self):\n",
    "        for i in range(len(self.data)):\n",
    "            self.returns.append(self.function(self.data[i]))\n",
    "        self.returns = np.asarray(self.returns)\n",
    "        \n",
    "    def get_log_returns(self):\n",
    "        if self.log_returns:\n",
    "            temp = np.empty(len(np.where(self.returns!=0)[0]))\n",
    "            for i in range(len(np.where(self.returns!=0)[0])):\n",
    "                temp[i] = self.returns[np.where(self.returns!=0)[0][i]]\n",
    "            #self.returns = np.log(temp)\n",
    "            self.returns = (np.log(temp)-np.mean(np.log(temp)))/np.std(np.log(temp))\n",
    "            \n",
    "    def compute_X_and_y(self):\n",
    "        self.X_ = []\n",
    "        self.y_ = []\n",
    "        for i in range(len(self.returns)-self.depth):\n",
    "            temp = self.returns\n",
    "            self.y_.append(temp[i])\n",
    "            self.X_.append(np.array(temp[i+1:i+1+self.depth]))\n",
    "        self.y_ = np.array(self.y_)        \n",
    "        temp2 = np.empty((len(self.X_)-1,len(self.X_[0])))\n",
    "        for i in range(len(temp2)):\n",
    "            temp2[i] = np.array(self.X_[i])\n",
    "        self.X_ = temp2\n",
    "        self.y_ = self.y_[:len(self.X_)]\n",
    "        \n",
    "    def focus_on_recent_data(self):\n",
    "        n_data_for_training = 500\n",
    "        start_index = 0\n",
    "        self.X_, self.X_all = self.X_[start_index:start_index+n_data_for_training], self.X_\n",
    "        self.y_, self.y_all = self.y_[start_index:start_index+n_data_for_training], self.y_\n",
    "    \n",
    "    def run(self,stock_name,focus_on_recent_data):\n",
    "        self.get_data_stock(stock_name)\n",
    "        self.get_stock_return()\n",
    "        self.get_log_returns()\n",
    "        self.compute_X_and_y()\n",
    "        if focus_on_recent_data:\n",
    "            self.focus_on_recent_data()\n",
    "            \n",
    "    def reset(self):\n",
    "        self.function = f_1\n",
    "        self.open_csv = Open_csv()\n",
    "        self.data = None\n",
    "        self.returns = []\n",
    "        self.log_returns = True\n",
    "        self.depth = 5\n",
    "        self.X_ = None\n",
    "        self.X_all = None\n",
    "        self.y_ = None\n",
    "        self.y_all = None "
   ]
  },
  {
   "cell_type": "code",
   "execution_count": 138,
   "metadata": {},
   "outputs": [],
   "source": [
    "class Estimate:\n",
    "    \n",
    "    def __init__(self):\n",
    "        self.X_ = None\n",
    "        self.y_ = None\n",
    "        self.optimize_rf = True\n",
    "        self.optimize_svm = True\n",
    "        self.ypred_randomforest = None\n",
    "        self.ypred_svm = None\n",
    "    \n",
    "    def cross_validate(self, design_matrix, labels, regressor, cv_folds):\n",
    "        pred = np.zeros(labels.shape) # Hold all predictions, in correct order.\n",
    "        for tr, te in cv_folds:        \n",
    "            scaler = preprocessing.StandardScaler()\n",
    "            Xtr = scaler.fit_transform(design_matrix[tr,:])\n",
    "            ytr = labels[tr]\n",
    "            Xte = scaler.transform(design_matrix[te,:])\n",
    "            regressor.fit(Xtr, ytr)\n",
    "            pred[te] = (regressor.predict(Xte))\n",
    "        return pred\n",
    "\n",
    "    def random_forest_estimate(self):\n",
    "        # Set up a stratified 10-fold cross-validation\n",
    "        skf = model_selection.KFold(n_splits=10)\n",
    "        skf.get_n_splits(self.X_, self.y_)\n",
    "        folds = [(tr,te) for (tr,te) in skf.split(self.X_, self.y_)]\n",
    "        \n",
    "        if self.optimize_rf:\n",
    "            param_grid = {'n_estimators':[1,10],\n",
    "                    'max_features':[1,4],\n",
    "                    'max_depth':[1,9]}\n",
    "\n",
    "            clf_rf = GridSearchCV(RandomForestRegressor(),\n",
    "                           param_grid)\n",
    "\n",
    "            self.ypred_randomforest = self.cross_validate(self.X_, self.y_, clf_rf, folds)\n",
    "\n",
    "        else:\n",
    "            self.ypred_randomforest = self.cross_validate(self.X_,self.y_,RandomForestRegressor(),folds)\n",
    "    \n",
    "    def svm_estimate(self):\n",
    "        # Set up a stratified 10-fold cross-validation\n",
    "        skf = model_selection.KFold(n_splits=10)\n",
    "        skf.get_n_splits(self.X_, self.y_)\n",
    "        folds = [(tr,te) for (tr,te) in skf.split(self.X_, self.y_)]\n",
    "        if self.optimize_svm:\n",
    "            param_grid = {'C':[0.01,10]}\n",
    "\n",
    "            clf_svm = GridSearchCV(svm.SVR(kernel='linear'),\n",
    "                           param_grid)\n",
    "\n",
    "            self.ypred_svm = self.cross_validate(self.X_, self.y_, clf_svm, folds)\n",
    "\n",
    "        else:\n",
    "            self.ypred_svm = self.cross_validate(self.X_, self.y_, svm.SVR(kernel='linear'), folds)\n",
    "            \n",
    "    def run(self,X_,y_):\n",
    "        self.X_ = X_\n",
    "        self.y_ = y_\n",
    "        self.random_forest_estimate()\n",
    "        self.svm_estimate()\n",
    "        \n",
    "    def reset(self):\n",
    "        self.X_ = None\n",
    "        self.y_ = None\n",
    "        self.optimize_rf = True\n",
    "        self.optimize_svm = True\n",
    "        self.ypred_randomforest = None\n",
    "        self.ypred_svm = None"
   ]
  },
  {
   "cell_type": "code",
   "execution_count": null,
   "metadata": {},
   "outputs": [],
   "source": []
  },
  {
   "cell_type": "code",
   "execution_count": 139,
   "metadata": {},
   "outputs": [],
   "source": [
    "stock_list2 = ['OR.PA', 'ATO.PA', 'SGO.PA', 'EN.PA', 'SU.PA', 'FR.PA', 'ORA.PA', 'UG.PA', 'ACA.PA', \n",
    "               'BNP.PA', 'GLE.PA', 'AC.PA', 'LHN.PA', 'FP.PA']\n",
    "\n",
    "stock_list3 = [\"FP.PA\"]\n",
    "\n",
    "stock_list4 = ['AC.PA', 'LHN.PA', 'FP.PA']\n",
    "\n",
    "stock_list5 = ['BNP.PA', 'GLE.PA', 'AC.PA', 'LHN.PA', 'FP.PA']"
   ]
  },
  {
   "cell_type": "code",
   "execution_count": 140,
   "metadata": {},
   "outputs": [],
   "source": [
    "preprocess_data = Preprocess_data()\n",
    "preprocess_data.run(stock_list3[0],focus_on_recent_data=True)\n",
    "X_ = preprocess_data.X_\n",
    "y_ = preprocess_data.y_\n",
    "preprocess_data.reset()\n",
    "\n",
    "for i in range(1,len(stock_list3)):\n",
    "    preprocess_data.run(stock_list3[i],focus_on_recent_data=True)\n",
    "    X_ = np.concatenate((X_,preprocess_data.X_),axis=0)\n",
    "    y_ = np.concatenate((y_,preprocess_data.y_),axis=0)    \n",
    "    preprocess_data.reset()\n"
   ]
  },
  {
   "cell_type": "code",
   "execution_count": 141,
   "metadata": {},
   "outputs": [],
   "source": [
    "estimate = Estimate()\n",
    "estimate.run(X_,y_)"
   ]
  },
  {
   "cell_type": "code",
   "execution_count": 142,
   "metadata": {},
   "outputs": [],
   "source": [
    "ypred_randomforest = estimate.ypred_randomforest\n",
    "ypred_svm = estimate.ypred_svm\n",
    "y_ = estimate.y_"
   ]
  },
  {
   "cell_type": "code",
   "execution_count": 143,
   "metadata": {},
   "outputs": [
    {
     "name": "stdout",
     "output_type": "stream",
     "text": [
      "dummy estimator : mean of |y1_ - y_|   :   0.6828702946339802\n",
      "dummy estimator : explained variance : 0.0\n",
      "dummy estimator : mean absolute error : 0.6828702946339802\n",
      "dummy estimator : mean squared error : 0.7129551184039646\n",
      "dummy estimator : r2 score : 0.0\n",
      "randomforest : mean of |ypred_randomforest - y_|   :   0.6432419121394937\n",
      "randomforest : explained variance : 0.07542316954166106\n",
      "randomforest : mean absolute error : 0.6432419121394937\n",
      "randomforest : mean squared error : 0.6606497784576731\n",
      "randomforest : r2 score : 0.07336414115853918\n",
      "svm : mean of |ypred_svm - y_|   :   0.6032010126864337\n",
      "svm : explained variance : 0.18657150576733572\n",
      "svm : mean absolute error : 0.6032010126864337\n",
      "svm : mean squared error : 0.5799738676274501\n",
      "svm : r2 score : 0.18652120918103376\n"
     ]
    }
   ],
   "source": [
    "# comparaison avec différents prédicteurs \"stupides\"\n",
    "y1_ = np.array([np.mean(y_)]*len(y_))\n",
    "print(\"dummy estimator : mean of |y1_ - y_|   :   \"+str(np.mean(np.abs(y1_-y_))))\n",
    "print(\"dummy estimator : explained variance : \"+str(metrics.explained_variance_score(y_,y1_)))\n",
    "print(\"dummy estimator : mean absolute error : \"+str(metrics.mean_absolute_error(y_,y1_)))\n",
    "print(\"dummy estimator : mean squared error : \"+str(metrics.mean_squared_error(y_,y1_)))\n",
    "print(\"dummy estimator : r2 score : \"+str(metrics.r2_score(y_,y1_)))\n",
    "    \n",
    "# random forest\n",
    "print(\"randomforest : mean of |ypred_randomforest - y_|   :   \"+str(np.mean(np.abs(ypred_randomforest-y_))))\n",
    "print(\"randomforest : explained variance : \"+str(metrics.explained_variance_score(y_,ypred_randomforest)))\n",
    "print(\"randomforest : mean absolute error : \"+str(metrics.mean_absolute_error(y_,ypred_randomforest)))\n",
    "print(\"randomforest : mean squared error : \"+str(metrics.mean_squared_error(y_,ypred_randomforest)))\n",
    "print(\"randomforest : r2 score : \"+str(metrics.r2_score(y_,ypred_randomforest)))\n",
    "    \n",
    "# svm\n",
    "print(\"svm : mean of |ypred_svm - y_|   :   \"+str(np.mean(np.abs(ypred_svm-y_))))\n",
    "print(\"svm : explained variance : \"+str(metrics.explained_variance_score(y_,ypred_svm)))\n",
    "print(\"svm : mean absolute error : \"+str(metrics.mean_absolute_error(y_,ypred_svm)))\n",
    "print(\"svm : mean squared error : \"+str(metrics.mean_squared_error(y_,ypred_svm)))\n",
    "print(\"svm : r2 score : \"+str(metrics.r2_score(y_,ypred_svm)))"
   ]
  },
  {
   "cell_type": "code",
   "execution_count": null,
   "metadata": {},
   "outputs": [],
   "source": []
  },
  {
   "cell_type": "code",
   "execution_count": 144,
   "metadata": {},
   "outputs": [],
   "source": [
    "preprocess_data = Preprocess_data()\n",
    "preprocess_data.run(stock_list4[0],focus_on_recent_data=True)\n",
    "X_ = preprocess_data.X_\n",
    "y_ = preprocess_data.y_\n",
    "preprocess_data.reset()\n",
    "\n",
    "for i in range(1,len(stock_list4)):\n",
    "    preprocess_data.run(stock_list4[i],focus_on_recent_data=True)\n",
    "    X_ = np.concatenate((X_,preprocess_data.X_),axis=0)\n",
    "    y_ = np.concatenate((y_,preprocess_data.y_),axis=0)    \n",
    "    preprocess_data.reset()\n"
   ]
  },
  {
   "cell_type": "code",
   "execution_count": 145,
   "metadata": {},
   "outputs": [],
   "source": [
    "estimate = Estimate()\n",
    "estimate.run(X_,y_)"
   ]
  },
  {
   "cell_type": "code",
   "execution_count": 146,
   "metadata": {},
   "outputs": [],
   "source": [
    "ypred_randomforest = estimate.ypred_randomforest\n",
    "ypred_svm = estimate.ypred_svm\n",
    "y_ = estimate.y_"
   ]
  },
  {
   "cell_type": "code",
   "execution_count": 147,
   "metadata": {},
   "outputs": [
    {
     "name": "stdout",
     "output_type": "stream",
     "text": [
      "dummy estimator : mean of |y1_ - y_|   :   0.7278505673984774\n",
      "dummy estimator : explained variance : 0.0\n",
      "dummy estimator : mean absolute error : 0.7278505673984774\n",
      "dummy estimator : mean squared error : 0.844471854864409\n",
      "dummy estimator : r2 score : 0.0\n",
      "randomforest : mean of |ypred_randomforest - y_|   :   0.6549906266634918\n",
      "randomforest : explained variance : 0.1627450621932338\n",
      "randomforest : mean absolute error : 0.6549906266634918\n",
      "randomforest : mean squared error : 0.7071718408068222\n",
      "randomforest : r2 score : 0.16258684438883064\n",
      "svm : mean of |ypred_svm - y_|   :   0.6424221034989139\n",
      "svm : explained variance : 0.20794241075677944\n",
      "svm : mean absolute error : 0.6424221034989139\n",
      "svm : mean squared error : 0.6703812898588623\n",
      "svm : r2 score : 0.20615318793957826\n"
     ]
    }
   ],
   "source": [
    "# comparaison avec différents prédicteurs \"stupides\"\n",
    "y1_ = np.array([np.mean(y_)]*len(y_))\n",
    "print(\"dummy estimator : mean of |y1_ - y_|   :   \"+str(np.mean(np.abs(y1_-y_))))\n",
    "print(\"dummy estimator : explained variance : \"+str(metrics.explained_variance_score(y_,y1_)))\n",
    "print(\"dummy estimator : mean absolute error : \"+str(metrics.mean_absolute_error(y_,y1_)))\n",
    "print(\"dummy estimator : mean squared error : \"+str(metrics.mean_squared_error(y_,y1_)))\n",
    "print(\"dummy estimator : r2 score : \"+str(metrics.r2_score(y_,y1_)))\n",
    "    \n",
    "# random forest\n",
    "print(\"randomforest : mean of |ypred_randomforest - y_|   :   \"+str(np.mean(np.abs(ypred_randomforest-y_))))\n",
    "print(\"randomforest : explained variance : \"+str(metrics.explained_variance_score(y_,ypred_randomforest)))\n",
    "print(\"randomforest : mean absolute error : \"+str(metrics.mean_absolute_error(y_,ypred_randomforest)))\n",
    "print(\"randomforest : mean squared error : \"+str(metrics.mean_squared_error(y_,ypred_randomforest)))\n",
    "print(\"randomforest : r2 score : \"+str(metrics.r2_score(y_,ypred_randomforest)))\n",
    "    \n",
    "# svm\n",
    "print(\"svm : mean of |ypred_svm - y_|   :   \"+str(np.mean(np.abs(ypred_svm-y_))))\n",
    "print(\"svm : explained variance : \"+str(metrics.explained_variance_score(y_,ypred_svm)))\n",
    "print(\"svm : mean absolute error : \"+str(metrics.mean_absolute_error(y_,ypred_svm)))\n",
    "print(\"svm : mean squared error : \"+str(metrics.mean_squared_error(y_,ypred_svm)))\n",
    "print(\"svm : r2 score : \"+str(metrics.r2_score(y_,ypred_svm)))"
   ]
  },
  {
   "cell_type": "code",
   "execution_count": null,
   "metadata": {},
   "outputs": [],
   "source": []
  },
  {
   "cell_type": "code",
   "execution_count": 148,
   "metadata": {},
   "outputs": [],
   "source": [
    "preprocess_data = Preprocess_data()\n",
    "preprocess_data.run(stock_list5[0],focus_on_recent_data=True)\n",
    "X_ = preprocess_data.X_\n",
    "y_ = preprocess_data.y_\n",
    "preprocess_data.reset()\n",
    "\n",
    "for i in range(1,len(stock_list5)):\n",
    "    preprocess_data.run(stock_list5[i],focus_on_recent_data=True)\n",
    "    X_ = np.concatenate((X_,preprocess_data.X_),axis=0)\n",
    "    y_ = np.concatenate((y_,preprocess_data.y_),axis=0)    \n",
    "    preprocess_data.reset()\n"
   ]
  },
  {
   "cell_type": "code",
   "execution_count": 149,
   "metadata": {},
   "outputs": [],
   "source": [
    "estimate = Estimate()\n",
    "estimate.run(X_,y_)"
   ]
  },
  {
   "cell_type": "code",
   "execution_count": 150,
   "metadata": {},
   "outputs": [],
   "source": [
    "ypred_randomforest = estimate.ypred_randomforest\n",
    "ypred_svm = estimate.ypred_svm\n",
    "y_ = estimate.y_"
   ]
  },
  {
   "cell_type": "code",
   "execution_count": 151,
   "metadata": {},
   "outputs": [
    {
     "name": "stdout",
     "output_type": "stream",
     "text": [
      "dummy estimator : mean of |y1_ - y_|   :   0.7549927545245116\n",
      "dummy estimator : explained variance : 0.0\n",
      "dummy estimator : mean absolute error : 0.7549927545245116\n",
      "dummy estimator : mean squared error : 0.9128747333904755\n",
      "dummy estimator : r2 score : 0.0\n",
      "randomforest : mean of |ypred_randomforest - y_|   :   0.6874951937186715\n",
      "randomforest : explained variance : 0.1714866161959434\n",
      "randomforest : mean absolute error : 0.6874951937186715\n",
      "randomforest : mean squared error : 0.7563359887278474\n",
      "randomforest : r2 score : 0.1714788885450178\n",
      "svm : mean of |ypred_svm - y_|   :   0.6660142966028574\n",
      "svm : explained variance : 0.21592408396442087\n",
      "svm : mean absolute error : 0.6660142966028574\n",
      "svm : mean squared error : 0.7171962853531845\n",
      "svm : r2 score : 0.21435410673546484\n"
     ]
    }
   ],
   "source": [
    "# comparaison avec différents prédicteurs \"stupides\"\n",
    "y1_ = np.array([np.mean(y_)]*len(y_))\n",
    "print(\"dummy estimator : mean of |y1_ - y_|   :   \"+str(np.mean(np.abs(y1_-y_))))\n",
    "print(\"dummy estimator : explained variance : \"+str(metrics.explained_variance_score(y_,y1_)))\n",
    "print(\"dummy estimator : mean absolute error : \"+str(metrics.mean_absolute_error(y_,y1_)))\n",
    "print(\"dummy estimator : mean squared error : \"+str(metrics.mean_squared_error(y_,y1_)))\n",
    "print(\"dummy estimator : r2 score : \"+str(metrics.r2_score(y_,y1_)))\n",
    "    \n",
    "# random forest\n",
    "print(\"randomforest : mean of |ypred_randomforest - y_|   :   \"+str(np.mean(np.abs(ypred_randomforest-y_))))\n",
    "print(\"randomforest : explained variance : \"+str(metrics.explained_variance_score(y_,ypred_randomforest)))\n",
    "print(\"randomforest : mean absolute error : \"+str(metrics.mean_absolute_error(y_,ypred_randomforest)))\n",
    "print(\"randomforest : mean squared error : \"+str(metrics.mean_squared_error(y_,ypred_randomforest)))\n",
    "print(\"randomforest : r2 score : \"+str(metrics.r2_score(y_,ypred_randomforest)))\n",
    "    \n",
    "# svm\n",
    "print(\"svm : mean of |ypred_svm - y_|   :   \"+str(np.mean(np.abs(ypred_svm-y_))))\n",
    "print(\"svm : explained variance : \"+str(metrics.explained_variance_score(y_,ypred_svm)))\n",
    "print(\"svm : mean absolute error : \"+str(metrics.mean_absolute_error(y_,ypred_svm)))\n",
    "print(\"svm : mean squared error : \"+str(metrics.mean_squared_error(y_,ypred_svm)))\n",
    "print(\"svm : r2 score : \"+str(metrics.r2_score(y_,ypred_svm)))"
   ]
  },
  {
   "cell_type": "code",
   "execution_count": null,
   "metadata": {},
   "outputs": [],
   "source": []
  }
 ],
 "metadata": {
  "kernelspec": {
   "display_name": "Python 3",
   "language": "python",
   "name": "python3"
  },
  "language_info": {
   "codemirror_mode": {
    "name": "ipython",
    "version": 3
   },
   "file_extension": ".py",
   "mimetype": "text/x-python",
   "name": "python",
   "nbconvert_exporter": "python",
   "pygments_lexer": "ipython3",
   "version": "3.6.4"
  }
 },
 "nbformat": 4,
 "nbformat_minor": 2
}
