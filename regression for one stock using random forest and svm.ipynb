{
 "cells": [
  {
   "cell_type": "code",
   "execution_count": 143,
   "metadata": {},
   "outputs": [],
   "source": [
    "import numpy as np\n",
    "import pandas as pd\n",
    "import matplotlib.pyplot as plt\n",
    "from datetime import datetime\n",
    "import random\n",
    "from sklearn import model_selection, preprocessing, svm, metrics\n",
    "from sklearn.ensemble import RandomForestRegressor\n",
    "from sklearn.model_selection import GridSearchCV\n",
    "\n",
    "%matplotlib inline"
   ]
  },
  {
   "cell_type": "code",
   "execution_count": 144,
   "metadata": {},
   "outputs": [],
   "source": [
    "class Open_csv:\n",
    "    \n",
    "    def __init__(self):\n",
    "        pass\n",
    "    \n",
    "    def open(self,path_to_file):\n",
    "        data = np.asarray(pd.read_csv(path_to_file, delimiter=\",\").values)\n",
    "        return data"
   ]
  },
  {
   "cell_type": "code",
   "execution_count": 145,
   "metadata": {},
   "outputs": [],
   "source": [
    "open_csv = Open_csv()\n",
    "# open high low close"
   ]
  },
  {
   "cell_type": "code",
   "execution_count": null,
   "metadata": {},
   "outputs": [],
   "source": []
  },
  {
   "cell_type": "code",
   "execution_count": 146,
   "metadata": {},
   "outputs": [],
   "source": [
    "def f_1(vector):\n",
    "    return (vector[2]-vector[3])/(vector[1]+vector[4]) # (high-low)/(open+close)"
   ]
  },
  {
   "cell_type": "code",
   "execution_count": 147,
   "metadata": {},
   "outputs": [],
   "source": [
    "def compute_function_returns(function,data):\n",
    "    returns = []\n",
    "    for i in range(len(data)):\n",
    "        returns.append(function(data[i]))\n",
    "    return np.asarray(returns)"
   ]
  },
  {
   "cell_type": "code",
   "execution_count": null,
   "metadata": {},
   "outputs": [],
   "source": []
  },
  {
   "cell_type": "code",
   "execution_count": 148,
   "metadata": {},
   "outputs": [],
   "source": [
    "stock_list = [\"AC.PA\", \"AI.PA\", \"AIR.PA\", \"ATO.PA\", \"BNP.PA\", \"EN.PA\", \"CAP.PA\", \"CA.PA\", \"ACA.PA\", \n",
    "          \"BN.PA\", \"ENGI.PA\", \"KER.PA\", \"OR.PA\", \"LHN.PA\", \"LR.PA\", \"MC.PA\", \"ML.PA\", \"ORA.PA\",\n",
    "          \"UG.PA\", \"SGO.PA\", \"SAN.PA\", \"SU.PA\", \"GLE.PA\", \"SW.PA\", \"FP.PA\", \"FR.PA\", \"VIE.PA\", \"DG.PA\", \"VIV.PA\"]"
   ]
  },
  {
   "cell_type": "code",
   "execution_count": 149,
   "metadata": {},
   "outputs": [],
   "source": [
    "stock_returns = []\n",
    "for stock_name in stock_list:\n",
    "    stock_returns.append(compute_function_returns(function=f_1,\n",
    "                                                 data = open_csv.open(\"data/\"+stock_name+\".csv\")))"
   ]
  },
  {
   "cell_type": "code",
   "execution_count": 150,
   "metadata": {},
   "outputs": [],
   "source": [
    "# les valeurs les plus récentes sont en début d'indexation"
   ]
  },
  {
   "cell_type": "code",
   "execution_count": 151,
   "metadata": {},
   "outputs": [
    {
     "data": {
      "image/png": "[encoded data removed]",
      "text/plain": [
       "<matplotlib.figure.Figure at 0x1b0f8fd43c8>"
      ]
     },
     "metadata": {},
     "output_type": "display_data"
    }
   ],
   "source": [
    "plt.hist(np.log(stock_returns[0]),bins=200)\n",
    "plt.show()"
   ]
  },
  {
   "cell_type": "code",
   "execution_count": 152,
   "metadata": {},
   "outputs": [
    {
     "data": {
      "image/png": "[encoded data removed]",
      "text/plain": [
       "<matplotlib.figure.Figure at 0x1b0f9012a20>"
      ]
     },
     "metadata": {},
     "output_type": "display_data"
    }
   ],
   "source": [
    "mu = np.mean(np.log(stock_returns[0]))\n",
    "sigma = np.std(np.log(stock_returns[0]))\n",
    "\n",
    "s = np.random.normal(mu, sigma, 1300)\n",
    "plt.hist(s, bins=200, normed=True)\n",
    "plt.show()"
   ]
  },
  {
   "cell_type": "code",
   "execution_count": null,
   "metadata": {},
   "outputs": [],
   "source": []
  },
  {
   "cell_type": "code",
   "execution_count": 153,
   "metadata": {},
   "outputs": [],
   "source": [
    "# heavy tail distribution of returns : we take log(returns) instead of returns"
   ]
  },
  {
   "cell_type": "code",
   "execution_count": 154,
   "metadata": {},
   "outputs": [],
   "source": [
    "log_returns = True"
   ]
  },
  {
   "cell_type": "code",
   "execution_count": null,
   "metadata": {},
   "outputs": [],
   "source": []
  },
  {
   "cell_type": "code",
   "execution_count": 155,
   "metadata": {},
   "outputs": [],
   "source": [
    "# ML for only one stock"
   ]
  },
  {
   "cell_type": "code",
   "execution_count": 156,
   "metadata": {},
   "outputs": [],
   "source": [
    "index_stock = random.randint(0,len(stock_returns)-1)\n",
    "returns = stock_returns[index_stock]\n",
    "\n",
    "if log_returns:\n",
    "    temp = np.empty(len(np.where(returns!=0)[0]))\n",
    "    for i in range(len(np.where(returns!=0)[0])):\n",
    "        temp[i] = returns[np.where(returns!=0)[0][i]]\n",
    "    returns = np.log(temp)\n"
   ]
  },
  {
   "cell_type": "code",
   "execution_count": null,
   "metadata": {},
   "outputs": [],
   "source": []
  },
  {
   "cell_type": "code",
   "execution_count": 157,
   "metadata": {},
   "outputs": [],
   "source": [
    "# depth of learning"
   ]
  },
  {
   "cell_type": "code",
   "execution_count": 158,
   "metadata": {},
   "outputs": [],
   "source": [
    "depth = 5"
   ]
  },
  {
   "cell_type": "code",
   "execution_count": 159,
   "metadata": {},
   "outputs": [],
   "source": [
    "X_ = []\n",
    "y_ = []\n",
    "\n",
    "for i in range(len(returns)-depth):\n",
    "    temp = returns\n",
    "    y_.append(temp[i])\n",
    "    X_.append(np.array(temp[i+1:i+1+depth]))\n",
    "y_ = np.array(y_)"
   ]
  },
  {
   "cell_type": "code",
   "execution_count": 160,
   "metadata": {},
   "outputs": [],
   "source": [
    "# transform X_ to the required shape for ML algo"
   ]
  },
  {
   "cell_type": "code",
   "execution_count": 161,
   "metadata": {},
   "outputs": [],
   "source": [
    "temp = np.empty((len(X_)-1,len(X_[0])))\n",
    "for i in range(len(temp)):\n",
    "    temp[i] = np.array(X_[i])\n",
    "X_ = temp\n",
    "y_ = y_[:len(X_)]"
   ]
  },
  {
   "cell_type": "code",
   "execution_count": null,
   "metadata": {},
   "outputs": [],
   "source": []
  },
  {
   "cell_type": "code",
   "execution_count": 162,
   "metadata": {},
   "outputs": [],
   "source": [
    "# focus only on recent data"
   ]
  },
  {
   "cell_type": "code",
   "execution_count": 163,
   "metadata": {},
   "outputs": [],
   "source": [
    "n_data_for_training = 500\n",
    "start_index = 50\n",
    "X_, X_all = X_[start_index:start_index+n_data_for_training], X_\n",
    "y_, y_all = y_[start_index:start_index+n_data_for_training], y_"
   ]
  },
  {
   "cell_type": "code",
   "execution_count": null,
   "metadata": {},
   "outputs": [],
   "source": []
  },
  {
   "cell_type": "code",
   "execution_count": 164,
   "metadata": {},
   "outputs": [],
   "source": [
    "def cross_validate(design_matrix, labels, regressor, cv_folds):\n",
    "\n",
    "    pred = np.zeros(labels.shape) # Hold all predictions, in correct order.\n",
    "    for tr, te in cv_folds:        \n",
    "        scaler = preprocessing.StandardScaler()\n",
    "        Xtr = scaler.fit_transform(design_matrix[tr,:])\n",
    "        ytr = labels[tr]\n",
    "        Xte = scaler.transform(design_matrix[te,:])\n",
    "        regressor.fit(Xtr, ytr)\n",
    "        pred[te] = (regressor.predict(Xte))\n",
    "        \n",
    "    return pred"
   ]
  },
  {
   "cell_type": "code",
   "execution_count": 165,
   "metadata": {},
   "outputs": [],
   "source": [
    "# Set up a stratified 10-fold cross-validation\n",
    "skf = model_selection.KFold(n_splits=10)\n",
    "skf.get_n_splits(X_, y_)\n",
    "folds = [(tr,te) for (tr,te) in skf.split(X_, y_)]"
   ]
  },
  {
   "cell_type": "code",
   "execution_count": null,
   "metadata": {},
   "outputs": [],
   "source": []
  },
  {
   "cell_type": "code",
   "execution_count": 166,
   "metadata": {},
   "outputs": [],
   "source": [
    "# random forest"
   ]
  },
  {
   "cell_type": "code",
   "execution_count": 167,
   "metadata": {},
   "outputs": [],
   "source": [
    "optimize_rf = True"
   ]
  },
  {
   "cell_type": "code",
   "execution_count": 168,
   "metadata": {},
   "outputs": [],
   "source": [
    "if optimize_rf:\n",
    "    param_grid = {'n_estimators':[1,10],\n",
    "            'max_features':[1,4],\n",
    "            'max_depth':[1,9]}\n",
    "\n",
    "    clf_rf = GridSearchCV(RandomForestRegressor(),\n",
    "                   param_grid)\n",
    "\n",
    "    ypred_randomforest = cross_validate(X_, y_, clf_rf, folds)\n",
    "    \n",
    "else:\n",
    "    ypred_randomforest = cross_validate(X_,y_,RandomForestRegressor(),folds)"
   ]
  },
  {
   "cell_type": "code",
   "execution_count": null,
   "metadata": {},
   "outputs": [],
   "source": []
  },
  {
   "cell_type": "code",
   "execution_count": 169,
   "metadata": {},
   "outputs": [],
   "source": [
    "# svm"
   ]
  },
  {
   "cell_type": "code",
   "execution_count": 170,
   "metadata": {},
   "outputs": [],
   "source": [
    "optimize_svm = True"
   ]
  },
  {
   "cell_type": "code",
   "execution_count": 171,
   "metadata": {},
   "outputs": [],
   "source": [
    "if optimize_svm:\n",
    "    param_grid = {'C':[0.01,10]}\n",
    "\n",
    "    clf_svm = GridSearchCV(svm.SVR(kernel='linear'),\n",
    "                   param_grid)\n",
    "\n",
    "    ypred_svm = cross_validate(X_, y_, clf_svm, folds)\n",
    "\n",
    "else:\n",
    "    ypred_svm = cross_validate(X_, y_, svm.SVR(kernel='linear'), folds)"
   ]
  },
  {
   "cell_type": "code",
   "execution_count": null,
   "metadata": {},
   "outputs": [],
   "source": []
  },
  {
   "cell_type": "code",
   "execution_count": 172,
   "metadata": {},
   "outputs": [
    {
     "data": {
      "image/png": "[encoded data removed]",
      "text/plain": [
       "<matplotlib.figure.Figure at 0x1b0fa509438>"
      ]
     },
     "metadata": {},
     "output_type": "display_data"
    },
    {
     "data": {
      "image/png": "[encoded data removed]",
      "text/plain": [
       "<matplotlib.figure.Figure at 0x1b0fa63fa90>"
      ]
     },
     "metadata": {},
     "output_type": "display_data"
    },
    {
     "data": {
      "image/png": "[encoded data removed]",
      "text/plain": [
       "<matplotlib.figure.Figure at 0x1b0f8f77710>"
      ]
     },
     "metadata": {},
     "output_type": "display_data"
    }
   ],
   "source": [
    "plt.plot(ypred_randomforest)\n",
    "plt.show()\n",
    "plt.plot(ypred_svm)\n",
    "plt.show()\n",
    "plt.plot(y_)\n",
    "plt.show()"
   ]
  },
  {
   "cell_type": "code",
   "execution_count": null,
   "metadata": {},
   "outputs": [],
   "source": []
  },
  {
   "cell_type": "code",
   "execution_count": null,
   "metadata": {},
   "outputs": [],
   "source": []
  },
  {
   "cell_type": "code",
   "execution_count": 173,
   "metadata": {},
   "outputs": [
    {
     "name": "stdout",
     "output_type": "stream",
     "text": [
      "mean of |y1_ - y_|   :   0.33553845463768467\n",
      "explained variance : 1.1102230246251565e-16\n",
      "mean absolute error : 0.33553845463768467\n",
      "mean squared error : 0.1812427015841532\n",
      "r2 score : 0.0\n"
     ]
    }
   ],
   "source": [
    "# comparaison avec différents prédicteurs \"stupides\"\n",
    "y1_ = np.array([np.mean(y_)]*len(y_))\n",
    "\n",
    "print(\"mean of |y1_ - y_|   :   \"+str(np.mean(np.abs(y1_-y_))))\n",
    "print(\"explained variance : \"+str(metrics.explained_variance_score(y_,y1_)))\n",
    "print(\"mean absolute error : \"+str(metrics.mean_absolute_error(y_,y1_)))\n",
    "print(\"mean squared error : \"+str(metrics.mean_squared_error(y_,y1_)))\n",
    "print(\"r2 score : \"+str(metrics.r2_score(y_,y1_)))"
   ]
  },
  {
   "cell_type": "code",
   "execution_count": 174,
   "metadata": {},
   "outputs": [
    {
     "name": "stdout",
     "output_type": "stream",
     "text": [
      "mean of |y1_ - y_|   :   0.33553845463768467\n",
      "explained variance : 1.1102230246251565e-16\n",
      "mean absolute error : 0.33553845463768467\n",
      "mean squared error : 0.1812427015841532\n",
      "r2 score : 0.0\n"
     ]
    }
   ],
   "source": [
    "# comparaison avec différents prédicteurs \"stupides\"\n",
    "y1_ = np.array([np.mean(y_)]*len(y_))\n",
    "\n",
    "print(\"mean of |y1_ - y_|   :   \"+str(np.mean(np.abs(y1_-y_))))\n",
    "print(\"explained variance : \"+str(metrics.explained_variance_score(y_,y1_)))\n",
    "print(\"mean absolute error : \"+str(metrics.mean_absolute_error(y_,y1_)))\n",
    "print(\"mean squared error : \"+str(metrics.mean_squared_error(y_,y1_)))\n",
    "print(\"r2 score : \"+str(metrics.r2_score(y_,y1_)))"
   ]
  },
  {
   "cell_type": "code",
   "execution_count": null,
   "metadata": {},
   "outputs": [],
   "source": []
  },
  {
   "cell_type": "code",
   "execution_count": 175,
   "metadata": {},
   "outputs": [
    {
     "name": "stdout",
     "output_type": "stream",
     "text": [
      "mean of |ypred_randomforest - y_|   :   0.3283255543902947\n",
      "explained variance : 0.020705811834802246\n",
      "mean absolute error : 0.3283255543902947\n",
      "mean squared error : 0.17753041485405366\n",
      "r2 score : 0.020482406726738622\n"
     ]
    }
   ],
   "source": [
    "# random forest\n",
    "print(\"mean of |ypred_randomforest - y_|   :   \"+str(np.mean(np.abs(ypred_randomforest-y_))))\n",
    "print(\"explained variance : \"+str(metrics.explained_variance_score(y_,ypred_randomforest)))\n",
    "print(\"mean absolute error : \"+str(metrics.mean_absolute_error(y_,ypred_randomforest)))\n",
    "print(\"mean squared error : \"+str(metrics.mean_squared_error(y_,ypred_randomforest)))\n",
    "print(\"r2 score : \"+str(metrics.r2_score(y_,ypred_randomforest)))"
   ]
  },
  {
   "cell_type": "code",
   "execution_count": 176,
   "metadata": {},
   "outputs": [
    {
     "name": "stdout",
     "output_type": "stream",
     "text": [
      "mean of |ypred_randomforest - y_|   :   0.3283255543902947\n",
      "explained variance : 0.020705811834802246\n",
      "mean absolute error : 0.3283255543902947\n",
      "mean squared error : 0.17753041485405366\n",
      "r2 score : 0.020482406726738622\n"
     ]
    }
   ],
   "source": [
    "# random forest\n",
    "print(\"mean of |ypred_randomforest - y_|   :   \"+str(np.mean(np.abs(ypred_randomforest-y_))))\n",
    "print(\"explained variance : \"+str(metrics.explained_variance_score(y_,ypred_randomforest)))\n",
    "print(\"mean absolute error : \"+str(metrics.mean_absolute_error(y_,ypred_randomforest)))\n",
    "print(\"mean squared error : \"+str(metrics.mean_squared_error(y_,ypred_randomforest)))\n",
    "print(\"r2 score : \"+str(metrics.r2_score(y_,ypred_randomforest)))"
   ]
  },
  {
   "cell_type": "code",
   "execution_count": null,
   "metadata": {},
   "outputs": [],
   "source": []
  },
  {
   "cell_type": "code",
   "execution_count": 177,
   "metadata": {},
   "outputs": [
    {
     "name": "stdout",
     "output_type": "stream",
     "text": [
      "mean of |ypred_svm - y_|   :   0.30993395697176374\n",
      "explained variance : 0.13172536597886864\n",
      "mean absolute error : 0.30993395697176374\n",
      "mean squared error : 0.1580590352558838\n",
      "r2 score : 0.1279150339607189\n"
     ]
    }
   ],
   "source": [
    "# svm\n",
    "print(\"mean of |ypred_svm - y_|   :   \"+str(np.mean(np.abs(ypred_svm-y_))))\n",
    "print(\"explained variance : \"+str(metrics.explained_variance_score(y_,ypred_svm)))\n",
    "print(\"mean absolute error : \"+str(metrics.mean_absolute_error(y_,ypred_svm)))\n",
    "print(\"mean squared error : \"+str(metrics.mean_squared_error(y_,ypred_svm)))\n",
    "print(\"r2 score : \"+str(metrics.r2_score(y_,ypred_svm)))"
   ]
  },
  {
   "cell_type": "code",
   "execution_count": 178,
   "metadata": {},
   "outputs": [
    {
     "name": "stdout",
     "output_type": "stream",
     "text": [
      "mean of |ypred_svm - y_|   :   0.30993395697176374\n",
      "explained variance : 0.13172536597886864\n",
      "mean absolute error : 0.30993395697176374\n",
      "mean squared error : 0.1580590352558838\n",
      "r2 score : 0.1279150339607189\n"
     ]
    }
   ],
   "source": [
    "# svm\n",
    "print(\"mean of |ypred_svm - y_|   :   \"+str(np.mean(np.abs(ypred_svm-y_))))\n",
    "print(\"explained variance : \"+str(metrics.explained_variance_score(y_,ypred_svm)))\n",
    "print(\"mean absolute error : \"+str(metrics.mean_absolute_error(y_,ypred_svm)))\n",
    "print(\"mean squared error : \"+str(metrics.mean_squared_error(y_,ypred_svm)))\n",
    "print(\"r2 score : \"+str(metrics.r2_score(y_,ypred_svm)))"
   ]
  },
  {
   "cell_type": "code",
   "execution_count": null,
   "metadata": {},
   "outputs": [],
   "source": []
  }
 ],
 "metadata": {
  "kernelspec": {
   "display_name": "Python 3",
   "language": "python",
   "name": "python3"
  },
  "language_info": {
   "codemirror_mode": {
    "name": "ipython",
    "version": 3
   },
   "file_extension": ".py",
   "mimetype": "text/x-python",
   "name": "python",
   "nbconvert_exporter": "python",
   "pygments_lexer": "ipython3",
   "version": "3.6.4"
  }
 },
 "nbformat": 4,
 "nbformat_minor": 2
}
