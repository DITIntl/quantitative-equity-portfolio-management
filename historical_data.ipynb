{
 "cells": [
  {
   "cell_type": "code",
   "execution_count": 1,
   "metadata": {
    "collapsed": true
   },
   "outputs": [],
   "source": [
    "import requests\n",
    "import time\n",
    "from bs4 import BeautifulSoup\n",
    "from selenium import webdriver\n",
    "import csv"
   ]
  },
  {
   "cell_type": "code",
   "execution_count": 2,
   "metadata": {
    "collapsed": true
   },
   "outputs": [],
   "source": [
    "import pandas as pd\n",
    "from datetime import datetime, date"
   ]
  },
  {
   "cell_type": "code",
   "execution_count": 3,
   "metadata": {
    "collapsed": true
   },
   "outputs": [],
   "source": [
    "### Noms des actions capitalisées au CAC 40\n",
    "page = requests.get(\"https://finance.yahoo.com/quote/%5EFCHI/components\")\n",
    "soup = BeautifulSoup(page.content, 'html.parser')\n",
    "tableau = list(soup.find_all('tbody'))\n",
    "tableau = tableau[0]\n",
    "tab_content = list(tableau.children)\n",
    "n = len(tab_content)\n",
    "lines_list = list()\n",
    "for i in range(n):\n",
    "    lines_list.append(list(tab_content[i].children))\n"
   ]
  },
  {
   "cell_type": "code",
   "execution_count": 4,
   "metadata": {
    "collapsed": true
   },
   "outputs": [],
   "source": [
    "Stocks = [\"AC.PA\", \"AI.PA\", \"AIR.PA\", \"ATO.PA\", \"CS.PA\", \"BNP.PA\", \"EN.PA\", \"CAP.PA\", \"CA.PA\", \"ACA.PA\", \n",
    "          \"BN.PA\", \"ENGI.PA\", \"EI.PA\", \"KER.PA\", \"OR.PA\", \"LHN.PA\", \"LR.PA\", \"MC.PA\", \"ML.PA\", \"ORA.PA\",\n",
    "          \"RI.PA\", \"UG.PA\", \"PUB.PA\", \"RNO.PA\", \"SAF.PA\", \"MT.AS\", \"UL.AS\", \"SOLB.BR\", \"SGO.PA\", \"SAN.PA\",\n",
    "          \"SU.PA\", \"GLE.PA\", \"SW.PA\", \"STM.PA\", \"FTI.PA\", \"FP.PA\", \"FR.PA\", \"VIE.PA\", \"DG.PA\", \"VIV.PA\"]"
   ]
  },
  {
   "cell_type": "code",
   "execution_count": 5,
   "metadata": {
    "collapsed": true
   },
   "outputs": [],
   "source": [
    "Stocks = list()\n",
    "for i in range(len(lines_list)):\n",
    "    temp = []\n",
    "    for j in range(len(lines_list[i])):\n",
    "        temp.append(lines_list[i][j].get_text())\n",
    "    Stocks.append(temp[0])"
   ]
  },
  {
   "cell_type": "code",
   "execution_count": 6,
   "metadata": {
    "collapsed": true
   },
   "outputs": [],
   "source": [
    "header = [\"Date\", \"Open\", \"High\", \"Low\", \"Close\", \"Adj close\", \"Volume\"]"
   ]
  },
  {
   "cell_type": "code",
   "execution_count": 7,
   "metadata": {
    "collapsed": true
   },
   "outputs": [],
   "source": [
    "browser = webdriver.Chrome('D:/Centrale/Cours/2A/Projet_Inno_S8/Github/projets8/chromedriver.exe')"
   ]
  },
  {
   "cell_type": "code",
   "execution_count": 8,
   "metadata": {},
   "outputs": [
    {
     "ename": "WebDriverException",
     "evalue": "Message: chrome not reachable\n  (Session info: chrome=66.0.3359.139)\n  (Driver info: chromedriver=2.35.528161 (5b82f2d2aae0ca24b877009200ced9065a772e73),platform=Windows NT 10.0.16299 x86_64)\n",
     "output_type": "error",
     "traceback": [
      "\u001b[1;31m---------------------------------------------------------------------------\u001b[0m",
      "\u001b[1;31mWebDriverException\u001b[0m                        Traceback (most recent call last)",
      "\u001b[1;32m<ipython-input-8-0cc113a7f28b>\u001b[0m in \u001b[0;36m<module>\u001b[1;34m()\u001b[0m\n\u001b[0;32m      4\u001b[0m \u001b[1;33m\u001b[0m\u001b[0m\n\u001b[0;32m      5\u001b[0m \u001b[1;33m\u001b[0m\u001b[0m\n\u001b[1;32m----> 6\u001b[1;33m     \u001b[0mbrowser\u001b[0m\u001b[1;33m.\u001b[0m\u001b[0mget\u001b[0m\u001b[1;33m(\u001b[0m\u001b[0mlink\u001b[0m\u001b[1;33m)\u001b[0m\u001b[1;33m\u001b[0m\u001b[0m\n\u001b[0m\u001b[0;32m      7\u001b[0m     \u001b[1;31m#Nous allons scroller la page jusqu'à l'arret\u001b[0m\u001b[1;33m\u001b[0m\u001b[1;33m\u001b[0m\u001b[0m\n\u001b[0;32m      8\u001b[0m     \u001b[0mlenOfPage\u001b[0m \u001b[1;33m=\u001b[0m \u001b[0mbrowser\u001b[0m\u001b[1;33m.\u001b[0m\u001b[0mexecute_script\u001b[0m\u001b[1;33m(\u001b[0m\u001b[1;34m\"window.scrollTo(0, document.documentElement.scrollHeight);var lenOfPage=document.documentElement.scrollHeight;return lenOfPage;\"\u001b[0m\u001b[1;33m)\u001b[0m\u001b[1;33m\u001b[0m\u001b[0m\n",
      "\u001b[1;32mC:\\ProgramData\\Anaconda3\\lib\\site-packages\\selenium\\webdriver\\remote\\webdriver.py\u001b[0m in \u001b[0;36mget\u001b[1;34m(self, url)\u001b[0m\n\u001b[0;32m    322\u001b[0m         \u001b[0mLoads\u001b[0m \u001b[0ma\u001b[0m \u001b[0mweb\u001b[0m \u001b[0mpage\u001b[0m \u001b[1;32min\u001b[0m \u001b[0mthe\u001b[0m \u001b[0mcurrent\u001b[0m \u001b[0mbrowser\u001b[0m \u001b[0msession\u001b[0m\u001b[1;33m.\u001b[0m\u001b[1;33m\u001b[0m\u001b[0m\n\u001b[0;32m    323\u001b[0m         \"\"\"\n\u001b[1;32m--> 324\u001b[1;33m         \u001b[0mself\u001b[0m\u001b[1;33m.\u001b[0m\u001b[0mexecute\u001b[0m\u001b[1;33m(\u001b[0m\u001b[0mCommand\u001b[0m\u001b[1;33m.\u001b[0m\u001b[0mGET\u001b[0m\u001b[1;33m,\u001b[0m \u001b[1;33m{\u001b[0m\u001b[1;34m'url'\u001b[0m\u001b[1;33m:\u001b[0m \u001b[0murl\u001b[0m\u001b[1;33m}\u001b[0m\u001b[1;33m)\u001b[0m\u001b[1;33m\u001b[0m\u001b[0m\n\u001b[0m\u001b[0;32m    325\u001b[0m \u001b[1;33m\u001b[0m\u001b[0m\n\u001b[0;32m    326\u001b[0m     \u001b[1;33m@\u001b[0m\u001b[0mproperty\u001b[0m\u001b[1;33m\u001b[0m\u001b[0m\n",
      "\u001b[1;32mC:\\ProgramData\\Anaconda3\\lib\\site-packages\\selenium\\webdriver\\remote\\webdriver.py\u001b[0m in \u001b[0;36mexecute\u001b[1;34m(self, driver_command, params)\u001b[0m\n\u001b[0;32m    310\u001b[0m         \u001b[0mresponse\u001b[0m \u001b[1;33m=\u001b[0m \u001b[0mself\u001b[0m\u001b[1;33m.\u001b[0m\u001b[0mcommand_executor\u001b[0m\u001b[1;33m.\u001b[0m\u001b[0mexecute\u001b[0m\u001b[1;33m(\u001b[0m\u001b[0mdriver_command\u001b[0m\u001b[1;33m,\u001b[0m \u001b[0mparams\u001b[0m\u001b[1;33m)\u001b[0m\u001b[1;33m\u001b[0m\u001b[0m\n\u001b[0;32m    311\u001b[0m         \u001b[1;32mif\u001b[0m \u001b[0mresponse\u001b[0m\u001b[1;33m:\u001b[0m\u001b[1;33m\u001b[0m\u001b[0m\n\u001b[1;32m--> 312\u001b[1;33m             \u001b[0mself\u001b[0m\u001b[1;33m.\u001b[0m\u001b[0merror_handler\u001b[0m\u001b[1;33m.\u001b[0m\u001b[0mcheck_response\u001b[0m\u001b[1;33m(\u001b[0m\u001b[0mresponse\u001b[0m\u001b[1;33m)\u001b[0m\u001b[1;33m\u001b[0m\u001b[0m\n\u001b[0m\u001b[0;32m    313\u001b[0m             response['value'] = self._unwrap_value(\n\u001b[0;32m    314\u001b[0m                 response.get('value', None))\n",
      "\u001b[1;32mC:\\ProgramData\\Anaconda3\\lib\\site-packages\\selenium\\webdriver\\remote\\errorhandler.py\u001b[0m in \u001b[0;36mcheck_response\u001b[1;34m(self, response)\u001b[0m\n\u001b[0;32m    240\u001b[0m                 \u001b[0malert_text\u001b[0m \u001b[1;33m=\u001b[0m \u001b[0mvalue\u001b[0m\u001b[1;33m[\u001b[0m\u001b[1;34m'alert'\u001b[0m\u001b[1;33m]\u001b[0m\u001b[1;33m.\u001b[0m\u001b[0mget\u001b[0m\u001b[1;33m(\u001b[0m\u001b[1;34m'text'\u001b[0m\u001b[1;33m)\u001b[0m\u001b[1;33m\u001b[0m\u001b[0m\n\u001b[0;32m    241\u001b[0m             \u001b[1;32mraise\u001b[0m \u001b[0mexception_class\u001b[0m\u001b[1;33m(\u001b[0m\u001b[0mmessage\u001b[0m\u001b[1;33m,\u001b[0m \u001b[0mscreen\u001b[0m\u001b[1;33m,\u001b[0m \u001b[0mstacktrace\u001b[0m\u001b[1;33m,\u001b[0m \u001b[0malert_text\u001b[0m\u001b[1;33m)\u001b[0m\u001b[1;33m\u001b[0m\u001b[0m\n\u001b[1;32m--> 242\u001b[1;33m         \u001b[1;32mraise\u001b[0m \u001b[0mexception_class\u001b[0m\u001b[1;33m(\u001b[0m\u001b[0mmessage\u001b[0m\u001b[1;33m,\u001b[0m \u001b[0mscreen\u001b[0m\u001b[1;33m,\u001b[0m \u001b[0mstacktrace\u001b[0m\u001b[1;33m)\u001b[0m\u001b[1;33m\u001b[0m\u001b[0m\n\u001b[0m\u001b[0;32m    243\u001b[0m \u001b[1;33m\u001b[0m\u001b[0m\n\u001b[0;32m    244\u001b[0m     \u001b[1;32mdef\u001b[0m \u001b[0m_value_or_default\u001b[0m\u001b[1;33m(\u001b[0m\u001b[0mself\u001b[0m\u001b[1;33m,\u001b[0m \u001b[0mobj\u001b[0m\u001b[1;33m,\u001b[0m \u001b[0mkey\u001b[0m\u001b[1;33m,\u001b[0m \u001b[0mdefault\u001b[0m\u001b[1;33m)\u001b[0m\u001b[1;33m:\u001b[0m\u001b[1;33m\u001b[0m\u001b[0m\n",
      "\u001b[1;31mWebDriverException\u001b[0m: Message: chrome not reachable\n  (Session info: chrome=66.0.3359.139)\n  (Driver info: chromedriver=2.35.528161 (5b82f2d2aae0ca24b877009200ced9065a772e73),platform=Windows NT 10.0.16299 x86_64)\n"
     ]
    }
   ],
   "source": [
    "for stock in Stocks:\n",
    "    ### Les liens à scraper\n",
    "    link = \"https://finance.yahoo.com/quote/\" + stock + \"/history?period1=1364338800&period2=1522101600&interval=1d&filter=history&frequency=1d\"\n",
    "    \n",
    "    \n",
    "    browser.get(link)\n",
    "    #Nous allons scroller la page jusqu'à l'arret\n",
    "    lenOfPage = browser.execute_script(\"window.scrollTo(0, document.documentElement.scrollHeight);var lenOfPage=document.documentElement.scrollHeight;return lenOfPage;\")\n",
    "    match=False    #match indique si on est arrivé au bout de la page ou non\n",
    "    while(match==False):\n",
    "        lastCount = lenOfPage\n",
    "        time.sleep(0.1)\n",
    "        #Code en entrée en JavaScript\n",
    "        lenOfPage = browser.execute_script(\"window.scrollTo(0, document.documentElement.scrollHeight);var lenOfPage=document.documentElement.scrollHeight;return lenOfPage;\")\n",
    "        if lastCount==lenOfPage:\n",
    "            match=True\n",
    "\n",
    "    #Maintenant nous pouvons récupérer le code de la page avec toutes les données voulues\n",
    "    source_data = browser.page_source\n",
    "\n",
    "    #On peut à present utiliser BeautifulSoup pour parser la page\n",
    "    soup = BeautifulSoup(source_data, 'html.parser')\n",
    "\n",
    "    #On récupère le tableau\n",
    "    tableau = list(soup.find_all('tbody'))\n",
    "    tableau = tableau[1]\n",
    "    tab_content = list(tableau.children)\n",
    "\n",
    "    #On récupère les lignes du tableau \n",
    "    n = len(tab_content)\n",
    "    lines_list = list()\n",
    "    for i in range(n):\n",
    "        lines_list.append(list(tab_content[i].children))\n",
    "\n",
    "    #On crée le tableau des données historiques\n",
    "    historical = list()\n",
    "    for i in range(len(lines_list)):\n",
    "        temp = []\n",
    "        for j in range(len(lines_list[i])):\n",
    "            temp.append(lines_list[i][j].get_text())\n",
    "        historical.append(temp)\n",
    "\n",
    "    \n",
    "    \"\"\"Traitement du contenu du tableau\"\"\"\n",
    "    n = len(historical)\n",
    "    i = 0\n",
    "    compteur = 0\n",
    "    while compteur < n:\n",
    "        temp = historical[i]\n",
    "        if len(temp)>2:\n",
    "            temp[0] = temp[0].replace(',','')\n",
    "            temp[0] = datetime.strptime(temp[0] , \"%b %d %Y\").date()\n",
    "            c = temp[-1]\n",
    "            if c == '-':\n",
    "                historical.remove(temp)\n",
    "                compteur +=1\n",
    "                continue\n",
    "            else:\n",
    "                c = int(c.replace(',',''))\n",
    "                temp[-1] = c\n",
    "            for j in range(1,6):\n",
    "                if temp[j] == '-':\n",
    "                    historical.remove(temp)\n",
    "                    i-=1\n",
    "                    break\n",
    "                else:\n",
    "                    temp[j] = float(temp[j])\n",
    "            i+=1\n",
    "        else:\n",
    "            historical.remove(temp)\n",
    "        compteur +=1\n",
    "    \n",
    "    ### Transformation en DataFrame\n",
    "    Frame = pd.DataFrame(data = historical, columns = header)\n",
    "    \n",
    "    ### Sortie d'un CSV\n",
    "    Frame.to_csv(path_or_buf = stock + \".csv\", header = True, index = False)"
   ]
  },
  {
   "cell_type": "code",
   "execution_count": 8,
   "metadata": {
    "collapsed": true,
    "scrolled": false
   },
   "outputs": [],
   "source": [
    "browser.get(\"https://finance.yahoo.com/quote/BNP.PA/history?period1=1362351600&period2=1520118000&interval=1d&filter=history&frequency=1d\")\n",
    "#Nous allons scroller la page jusqu'à l'arret\n",
    "lenOfPage = browser.execute_script(\"window.scrollTo(0, document.documentElement.scrollHeight);var lenOfPage=document.documentElement.scrollHeight;return lenOfPage;\")\n",
    "match=False    #match indique si on est arrivé au bout de la page ou non\n",
    "while(match==False):\n",
    "    lastCount = lenOfPage\n",
    "    time.sleep(0.1)\n",
    "    #Code en entrée en JavaScript\n",
    "    lenOfPage = browser.execute_script(\"window.scrollTo(0, document.documentElement.scrollHeight);var lenOfPage=document.documentElement.scrollHeight;return lenOfPage;\")\n",
    "    if lastCount==lenOfPage:\n",
    "        match=True\n",
    "\n",
    "#Maintenant nous pouvons récupérer le code de la page avec toutes les données voulues\n",
    "source_data = browser.page_source\n",
    "\n",
    "#On peut à present utiliser BeautifulSoup pour parser la page\n",
    "soup = BeautifulSoup(source_data, 'html.parser')\n",
    "\n",
    "#On récupère le tableau\n",
    "tableau = list(soup.find_all('tbody'))\n",
    "tableau = tableau[1]\n",
    "tab_content = list(tableau.children)\n",
    "\n",
    "#On récupère les lignes du tableau \n",
    "n = len(tab_content)\n",
    "lines_list = list()\n",
    "for i in range(n):\n",
    "    lines_list.append(list(tab_content[i].children))\n",
    "\n",
    "#On crée le tableau des données historiques\n",
    "historical = list()\n",
    "for i in range(len(lines_list)):\n",
    "    temp = []\n",
    "    for j in range(len(lines_list[i])):\n",
    "        \n",
    "        temp.append(lines_list[i][j].get_text())\n",
    "    historical.append(temp)\n",
    "\n",
    "    \n",
    "\"\"\"Traitement du contenu du tableau\"\"\"\n",
    "n = len(historical)\n",
    "i = 0\n",
    "compteur = 0\n",
    "while compteur < n:\n",
    "    temp = historical[i]\n",
    "    if len(temp)>2:\n",
    "        temp[0] = temp[0].replace(',','')\n",
    "        temp[0] = datetime.strptime(temp[0] , \"%b %d %Y\").date()\n",
    "        for j in range(1,6):\n",
    "            temp[j] = float(temp[j])\n",
    "        c = temp[-1]\n",
    "        if c == '-':\n",
    "            temp[-1] = None\n",
    "        else:\n",
    "            c = int(c.replace(',',''))\n",
    "            temp[-1] = c\n",
    "        i+=1\n",
    "    else:\n",
    "        historical.remove(temp)\n",
    "    compteur +=1"
   ]
  },
  {
   "cell_type": "code",
   "execution_count": 1,
   "metadata": {},
   "outputs": [
    {
     "ename": "SyntaxError",
     "evalue": "invalid syntax (<ipython-input-1-0d7ba4101899>, line 1)",
     "output_type": "error",
     "traceback": [
      "\u001b[1;36m  File \u001b[1;32m\"<ipython-input-1-0d7ba4101899>\"\u001b[1;36m, line \u001b[1;32m1\u001b[0m\n\u001b[1;33m    help(continue)\u001b[0m\n\u001b[1;37m                ^\u001b[0m\n\u001b[1;31mSyntaxError\u001b[0m\u001b[1;31m:\u001b[0m invalid syntax\n"
     ]
    }
   ],
   "source": [
    "help(continue)"
   ]
  },
  {
   "cell_type": "code",
   "execution_count": null,
   "metadata": {
    "collapsed": true
   },
   "outputs": [],
   "source": []
  }
 ],
 "metadata": {
  "kernelspec": {
   "display_name": "Python 3",
   "language": "python",
   "name": "python3"
  },
  "language_info": {
   "codemirror_mode": {
    "name": "ipython",
    "version": 3
   },
   "file_extension": ".py",
   "mimetype": "text/x-python",
   "name": "python",
   "nbconvert_exporter": "python",
   "pygments_lexer": "ipython3",
   "version": "3.6.4"
  }
 },
 "nbformat": 4,
 "nbformat_minor": 2
}
